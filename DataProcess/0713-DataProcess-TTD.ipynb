{
 "cells": [
  {
   "cell_type": "code",
   "execution_count": 1,
   "metadata": {},
   "outputs": [],
   "source": [
    "import os, sys\n",
    "import pandas as pd\n",
    "import numpy as np\n",
    "import matplotlib.pyplot as plt\n",
    "import re\n",
    "from tqdm import tqdm"
   ]
  },
  {
   "attachments": {},
   "cell_type": "markdown",
   "metadata": {},
   "source": [
    "## TTD Targets"
   ]
  },
  {
   "cell_type": "code",
   "execution_count": 2,
   "metadata": {},
   "outputs": [
    {
     "data": {
      "text/html": [
       "<div>\n",
       "<style scoped>\n",
       "    .dataframe tbody tr th:only-of-type {\n",
       "        vertical-align: middle;\n",
       "    }\n",
       "\n",
       "    .dataframe tbody tr th {\n",
       "        vertical-align: top;\n",
       "    }\n",
       "\n",
       "    .dataframe thead th {\n",
       "        text-align: right;\n",
       "    }\n",
       "</style>\n",
       "<table border=\"1\" class=\"dataframe\">\n",
       "  <thead>\n",
       "    <tr style=\"text-align: right;\">\n",
       "      <th></th>\n",
       "      <th>0</th>\n",
       "      <th>1</th>\n",
       "      <th>2</th>\n",
       "      <th>3</th>\n",
       "      <th>4</th>\n",
       "    </tr>\n",
       "  </thead>\n",
       "  <tbody>\n",
       "    <tr>\n",
       "      <th>0</th>\n",
       "      <td>T47101</td>\n",
       "      <td>TARGETID</td>\n",
       "      <td>T47101</td>\n",
       "      <td>NaN</td>\n",
       "      <td>NaN</td>\n",
       "    </tr>\n",
       "    <tr>\n",
       "      <th>1</th>\n",
       "      <td>T47101</td>\n",
       "      <td>FORMERID</td>\n",
       "      <td>TTDC00024</td>\n",
       "      <td>NaN</td>\n",
       "      <td>NaN</td>\n",
       "    </tr>\n",
       "    <tr>\n",
       "      <th>2</th>\n",
       "      <td>T47101</td>\n",
       "      <td>UNIPROID</td>\n",
       "      <td>FGFR1_HUMAN</td>\n",
       "      <td>NaN</td>\n",
       "      <td>NaN</td>\n",
       "    </tr>\n",
       "    <tr>\n",
       "      <th>3</th>\n",
       "      <td>T47101</td>\n",
       "      <td>TARGNAME</td>\n",
       "      <td>Fibroblast growth factor receptor 1 (FGFR1)</td>\n",
       "      <td>NaN</td>\n",
       "      <td>NaN</td>\n",
       "    </tr>\n",
       "    <tr>\n",
       "      <th>4</th>\n",
       "      <td>T47101</td>\n",
       "      <td>GENENAME</td>\n",
       "      <td>FGFR1</td>\n",
       "      <td>NaN</td>\n",
       "      <td>NaN</td>\n",
       "    </tr>\n",
       "  </tbody>\n",
       "</table>\n",
       "</div>"
      ],
      "text/plain": [
       "        0         1                                            2    3    4\n",
       "0  T47101  TARGETID                                       T47101  NaN  NaN\n",
       "1  T47101  FORMERID                                    TTDC00024  NaN  NaN\n",
       "2  T47101  UNIPROID                                  FGFR1_HUMAN  NaN  NaN\n",
       "3  T47101  TARGNAME  Fibroblast growth factor receptor 1 (FGFR1)  NaN  NaN\n",
       "4  T47101  GENENAME                                        FGFR1  NaN  NaN"
      ]
     },
     "execution_count": 2,
     "metadata": {},
     "output_type": "execute_result"
    }
   ],
   "source": [
    "target_raw_data = pd.read_table('D:/study_data/DrugTarget/TTD/P1-01-TTD_target_download.txt',\n",
    "                                sep='\\t', skiprows=39, header=None)\n",
    "target_raw_data = target_raw_data.dropna(how='all')\n",
    "target_raw_data.head()"
   ]
  },
  {
   "cell_type": "code",
   "execution_count": 3,
   "metadata": {},
   "outputs": [
    {
     "data": {
      "text/plain": [
       "4221"
      ]
     },
     "execution_count": 3,
     "metadata": {},
     "output_type": "execute_result"
    }
   ],
   "source": [
    "len(set(target_raw_data[0].tolist()))"
   ]
  },
  {
   "cell_type": "code",
   "execution_count": 4,
   "metadata": {},
   "outputs": [
    {
     "name": "stderr",
     "output_type": "stream",
     "text": [
      "100%|██████████| 4221/4221 [05:43<00:00, 12.28it/s]\n"
     ]
    }
   ],
   "source": [
    "targets = sorted(list(set(target_raw_data[0].tolist())))\n",
    "uniprot_ids, gene_names, pdb_ids, biochemical_classes, sequences, drug_infos = [], [], [], [], [], []\n",
    "full_names, target_types = [], []\n",
    "for target in tqdm(targets):\n",
    "    abbs = ['UNIPROID', 'TARGNAME', 'GENENAME', 'TARGTYPE', 'PDBSTRUC', 'BIOCLASS', 'SEQUENCE']\n",
    "    lists = [uniprot_ids, full_names, gene_names, target_types, pdb_ids, biochemical_classes, sequences]\n",
    "    for abb, lst in zip(abbs, lists):\n",
    "        tmp = target_raw_data[(target_raw_data[0] == target) & (target_raw_data[1] == abb)]\n",
    "        try:\n",
    "            value = tmp.iloc[0, 2]\n",
    "            lst.append(value)\n",
    "        except:\n",
    "            lst.append(None)\n",
    "\n",
    "    # drug info\n",
    "    drug_df = target_raw_data[(target_raw_data[0] == target) & (target_raw_data[1] == 'DRUGINFO')]\n",
    "    try:\n",
    "        drug_infos.append(drug_df.iloc[:, 2:].values)\n",
    "    except:\n",
    "        drug_infos.append(None)"
   ]
  },
  {
   "cell_type": "code",
   "execution_count": 5,
   "metadata": {},
   "outputs": [
    {
     "data": {
      "text/html": [
       "<div>\n",
       "<style scoped>\n",
       "    .dataframe tbody tr th:only-of-type {\n",
       "        vertical-align: middle;\n",
       "    }\n",
       "\n",
       "    .dataframe tbody tr th {\n",
       "        vertical-align: top;\n",
       "    }\n",
       "\n",
       "    .dataframe thead th {\n",
       "        text-align: right;\n",
       "    }\n",
       "</style>\n",
       "<table border=\"1\" class=\"dataframe\">\n",
       "  <thead>\n",
       "    <tr style=\"text-align: right;\">\n",
       "      <th></th>\n",
       "      <th>target_id</th>\n",
       "      <th>uniprot_id</th>\n",
       "      <th>target_name</th>\n",
       "      <th>gene_name</th>\n",
       "      <th>target_type</th>\n",
       "      <th>PDB_id</th>\n",
       "      <th>biochemical_class</th>\n",
       "      <th>sequence</th>\n",
       "      <th>drug_info</th>\n",
       "    </tr>\n",
       "  </thead>\n",
       "  <tbody>\n",
       "    <tr>\n",
       "      <th>0</th>\n",
       "      <td>T00032</td>\n",
       "      <td>OSTP_HUMAN</td>\n",
       "      <td>Osteopontin (SPP1)</td>\n",
       "      <td>SPP1</td>\n",
       "      <td>Literature-reported target</td>\n",
       "      <td>3DSF; 3CXD</td>\n",
       "      <td>None</td>\n",
       "      <td>MRIAVICFCLLGITCAIPVKQADSGSSEEKQLYNKYPDAVATWLNP...</td>\n",
       "      <td>[]</td>\n",
       "    </tr>\n",
       "    <tr>\n",
       "      <th>1</th>\n",
       "      <td>T00033</td>\n",
       "      <td>TGFA_HUMAN</td>\n",
       "      <td>Transforming growth factor alpha (TGFA)</td>\n",
       "      <td>TGFA</td>\n",
       "      <td>Clinical trial target</td>\n",
       "      <td>5KN5; 4TGF; 3TGF; 3.00E+50; 2TGF</td>\n",
       "      <td>Growth factor</td>\n",
       "      <td>MVPSAGQLALFALGIVLAACQALENSTSPLSADPPVAAAVVSHFND...</td>\n",
       "      <td>[[D08EIK, LY3016859, Phase 1/2]]</td>\n",
       "    </tr>\n",
       "    <tr>\n",
       "      <th>2</th>\n",
       "      <td>T00037</td>\n",
       "      <td>ERG6_PNEC8</td>\n",
       "      <td>Fungal Sterol 24-C-methyltransferase (Fung erg6)</td>\n",
       "      <td>Fung erg6</td>\n",
       "      <td>Literature-reported target</td>\n",
       "      <td>None</td>\n",
       "      <td>Methyltransferase</td>\n",
       "      <td>MSFELERIDIEKDREFSEIMHGKDAAKERGLLSSFRKDKEAQKIAL...</td>\n",
       "      <td>[[D0M7DG, 24-thiacycloartanol, Investigative]]</td>\n",
       "    </tr>\n",
       "    <tr>\n",
       "      <th>3</th>\n",
       "      <td>T00039</td>\n",
       "      <td>CTGF_HUMAN</td>\n",
       "      <td>CTGF messenger RNA (CTGF mRNA)</td>\n",
       "      <td>CTGF</td>\n",
       "      <td>Clinical trial target</td>\n",
       "      <td>None</td>\n",
       "      <td>mRNA target</td>\n",
       "      <td>MTAASMGPVRVAFVVLLALCSRPAVGQNCSGPCRCPDEPAPRCPAG...</td>\n",
       "      <td>[[D0R3LQ, EXC 001, Phase 2]]</td>\n",
       "    </tr>\n",
       "    <tr>\n",
       "      <th>4</th>\n",
       "      <td>T00064</td>\n",
       "      <td>None</td>\n",
       "      <td>microRNA hsa-miR-199a (MIR199a)</td>\n",
       "      <td>None</td>\n",
       "      <td>Literature-reported target</td>\n",
       "      <td>None</td>\n",
       "      <td>Non-coding RNA target</td>\n",
       "      <td>None</td>\n",
       "      <td>[]</td>\n",
       "    </tr>\n",
       "  </tbody>\n",
       "</table>\n",
       "</div>"
      ],
      "text/plain": [
       "  target_id  uniprot_id                                       target_name  \\\n",
       "0    T00032  OSTP_HUMAN                                Osteopontin (SPP1)   \n",
       "1    T00033  TGFA_HUMAN           Transforming growth factor alpha (TGFA)   \n",
       "2    T00037  ERG6_PNEC8  Fungal Sterol 24-C-methyltransferase (Fung erg6)   \n",
       "3    T00039  CTGF_HUMAN                    CTGF messenger RNA (CTGF mRNA)   \n",
       "4    T00064        None                   microRNA hsa-miR-199a (MIR199a)   \n",
       "\n",
       "   gene_name                 target_type                            PDB_id  \\\n",
       "0       SPP1  Literature-reported target                        3DSF; 3CXD   \n",
       "1       TGFA       Clinical trial target  5KN5; 4TGF; 3TGF; 3.00E+50; 2TGF   \n",
       "2  Fung erg6  Literature-reported target                              None   \n",
       "3       CTGF       Clinical trial target                              None   \n",
       "4       None  Literature-reported target                              None   \n",
       "\n",
       "       biochemical_class                                           sequence  \\\n",
       "0                   None  MRIAVICFCLLGITCAIPVKQADSGSSEEKQLYNKYPDAVATWLNP...   \n",
       "1          Growth factor  MVPSAGQLALFALGIVLAACQALENSTSPLSADPPVAAAVVSHFND...   \n",
       "2      Methyltransferase  MSFELERIDIEKDREFSEIMHGKDAAKERGLLSSFRKDKEAQKIAL...   \n",
       "3            mRNA target  MTAASMGPVRVAFVVLLALCSRPAVGQNCSGPCRCPDEPAPRCPAG...   \n",
       "4  Non-coding RNA target                                               None   \n",
       "\n",
       "                                        drug_info  \n",
       "0                                              []  \n",
       "1                [[D08EIK, LY3016859, Phase 1/2]]  \n",
       "2  [[D0M7DG, 24-thiacycloartanol, Investigative]]  \n",
       "3                    [[D0R3LQ, EXC 001, Phase 2]]  \n",
       "4                                              []  "
      ]
     },
     "execution_count": 5,
     "metadata": {},
     "output_type": "execute_result"
    }
   ],
   "source": [
    "target_df = pd.DataFrame({\n",
    "    'target_id': targets,\n",
    "    'uniprot_id': uniprot_ids,\n",
    "    'target_name': full_names,\n",
    "    'gene_name': gene_names,\n",
    "    'target_type': target_types,\n",
    "    'PDB_id': pdb_ids,\n",
    "    'biochemical_class': biochemical_classes,\n",
    "    'sequence': sequences,\n",
    "    'drug_info': drug_infos\n",
    "})\n",
    "\n",
    "target_df.head()"
   ]
  },
  {
   "cell_type": "code",
   "execution_count": 6,
   "metadata": {},
   "outputs": [],
   "source": [
    "target_df.to_csv('D:/study_data/DrugTarget/TTD/Processed_target_info.csv', index=False)"
   ]
  },
  {
   "attachments": {},
   "cell_type": "markdown",
   "metadata": {},
   "source": [
    "### Target ID mapping"
   ]
  },
  {
   "cell_type": "code",
   "execution_count": 2,
   "metadata": {},
   "outputs": [
    {
     "data": {
      "text/html": [
       "<div>\n",
       "<style scoped>\n",
       "    .dataframe tbody tr th:only-of-type {\n",
       "        vertical-align: middle;\n",
       "    }\n",
       "\n",
       "    .dataframe tbody tr th {\n",
       "        vertical-align: top;\n",
       "    }\n",
       "\n",
       "    .dataframe thead th {\n",
       "        text-align: right;\n",
       "    }\n",
       "</style>\n",
       "<table border=\"1\" class=\"dataframe\">\n",
       "  <thead>\n",
       "    <tr style=\"text-align: right;\">\n",
       "      <th></th>\n",
       "      <th>0</th>\n",
       "      <th>1</th>\n",
       "      <th>2</th>\n",
       "    </tr>\n",
       "  </thead>\n",
       "  <tbody>\n",
       "    <tr>\n",
       "      <th>0</th>\n",
       "      <td>T00032</td>\n",
       "      <td>TARGETID</td>\n",
       "      <td>T00032</td>\n",
       "    </tr>\n",
       "    <tr>\n",
       "      <th>1</th>\n",
       "      <td>T00032</td>\n",
       "      <td>UNIPROID</td>\n",
       "      <td>OSTP_HUMAN</td>\n",
       "    </tr>\n",
       "  </tbody>\n",
       "</table>\n",
       "</div>"
      ],
      "text/plain": [
       "        0         1           2\n",
       "0  T00032  TARGETID      T00032\n",
       "1  T00032  UNIPROID  OSTP_HUMAN"
      ]
     },
     "execution_count": 2,
     "metadata": {},
     "output_type": "execute_result"
    }
   ],
   "source": [
    "target_mapping_data = pd.read_table('D:/study_data/DrugTarget/TTD/P2-01-TTD_uniprot_all.txt',\n",
    "                                    sep='\\t', skiprows=22, header=None)\n",
    "target_mapping_data = target_mapping_data.dropna(how='all')\n",
    "target_mapping_data.head(2)"
   ]
  },
  {
   "cell_type": "code",
   "execution_count": 4,
   "metadata": {},
   "outputs": [
    {
     "name": "stdout",
     "output_type": "stream",
     "text": [
      "3606\n"
     ]
    }
   ],
   "source": [
    "targets = sorted(list(set(target_mapping_data[0].tolist())))\n",
    "print(len(targets))\n",
    "\n",
    "abbs = ['UNIPROID', 'TARGNAME', 'TARGTYPE']\n",
    "uniprot_ids, target_names, target_types = [], [], []\n",
    "lsts = [uniprot_ids, target_names, target_types]\n",
    "uniprot_ids_dict, target_names_dict, target_types_dict = {}, {}, {}\n",
    "dcts = [uniprot_ids_dict, target_names_dict, target_types_dict]\n",
    "for abb, dct in zip(abbs, dcts):\n",
    "    mapping_df = target_mapping_data[target_mapping_data[1] == abb][[0, 2]]\n",
    "    for target, value in mapping_df.values:\n",
    "        dct[target] = value\n",
    "\n",
    "for lst, dct in zip(lsts, dcts):\n",
    "    lst += [dct[target] if target in dct else None for target in targets]"
   ]
  },
  {
   "cell_type": "code",
   "execution_count": 5,
   "metadata": {},
   "outputs": [],
   "source": [
    "target_mapping_df = pd.DataFrame({\n",
    "    'target_id': targets,\n",
    "    'uniprot_id': uniprot_ids,\n",
    "    'target_name': target_names,\n",
    "    'target_type': target_types\n",
    "})\n",
    "\n",
    "target_mapping_df.to_csv('D:/study_data/DrugTarget/TTD/Processed_target_mapping_info.csv', index=False)"
   ]
  },
  {
   "cell_type": "code",
   "execution_count": 6,
   "metadata": {},
   "outputs": [
    {
     "data": {
      "text/html": [
       "<div>\n",
       "<style scoped>\n",
       "    .dataframe tbody tr th:only-of-type {\n",
       "        vertical-align: middle;\n",
       "    }\n",
       "\n",
       "    .dataframe tbody tr th {\n",
       "        vertical-align: top;\n",
       "    }\n",
       "\n",
       "    .dataframe thead th {\n",
       "        text-align: right;\n",
       "    }\n",
       "</style>\n",
       "<table border=\"1\" class=\"dataframe\">\n",
       "  <thead>\n",
       "    <tr style=\"text-align: right;\">\n",
       "      <th></th>\n",
       "      <th>target_id</th>\n",
       "      <th>uniprot_id</th>\n",
       "      <th>target_name</th>\n",
       "      <th>target_type</th>\n",
       "    </tr>\n",
       "  </thead>\n",
       "  <tbody>\n",
       "    <tr>\n",
       "      <th>0</th>\n",
       "      <td>T00032</td>\n",
       "      <td>OSTP_HUMAN</td>\n",
       "      <td>Osteopontin (SPP1)</td>\n",
       "      <td>Research target</td>\n",
       "    </tr>\n",
       "    <tr>\n",
       "      <th>1</th>\n",
       "      <td>T00033</td>\n",
       "      <td>TGFA_HUMAN</td>\n",
       "      <td>Transforming growth factor alpha (TGFA)</td>\n",
       "      <td>Clinical Trial target</td>\n",
       "    </tr>\n",
       "    <tr>\n",
       "      <th>2</th>\n",
       "      <td>T00037</td>\n",
       "      <td>ERG6_PNEC8</td>\n",
       "      <td>Fungal Sterol 24-C-methyltransferase (Fung erg6)</td>\n",
       "      <td>Research target</td>\n",
       "    </tr>\n",
       "    <tr>\n",
       "      <th>3</th>\n",
       "      <td>T00039</td>\n",
       "      <td>CTGF_HUMAN</td>\n",
       "      <td>CTGF messenger RNA (CTGF mRNA)</td>\n",
       "      <td>Clinical Trial target</td>\n",
       "    </tr>\n",
       "    <tr>\n",
       "      <th>4</th>\n",
       "      <td>T00075</td>\n",
       "      <td>MRCKA_HUMAN</td>\n",
       "      <td>CDC42 binding protein kinase alpha (DMPK-like ...</td>\n",
       "      <td>Research target</td>\n",
       "    </tr>\n",
       "  </tbody>\n",
       "</table>\n",
       "</div>"
      ],
      "text/plain": [
       "  target_id   uniprot_id                                        target_name  \\\n",
       "0    T00032   OSTP_HUMAN                                 Osteopontin (SPP1)   \n",
       "1    T00033   TGFA_HUMAN            Transforming growth factor alpha (TGFA)   \n",
       "2    T00037   ERG6_PNEC8   Fungal Sterol 24-C-methyltransferase (Fung erg6)   \n",
       "3    T00039   CTGF_HUMAN                     CTGF messenger RNA (CTGF mRNA)   \n",
       "4    T00075  MRCKA_HUMAN  CDC42 binding protein kinase alpha (DMPK-like ...   \n",
       "\n",
       "             target_type  \n",
       "0        Research target  \n",
       "1  Clinical Trial target  \n",
       "2        Research target  \n",
       "3  Clinical Trial target  \n",
       "4        Research target  "
      ]
     },
     "execution_count": 6,
     "metadata": {},
     "output_type": "execute_result"
    }
   ],
   "source": [
    "target_mapping_df.head()"
   ]
  },
  {
   "attachments": {},
   "cell_type": "markdown",
   "metadata": {},
   "source": [
    "## TTD Drugs"
   ]
  },
  {
   "cell_type": "code",
   "execution_count": 2,
   "metadata": {},
   "outputs": [
    {
     "data": {
      "text/html": [
       "<div>\n",
       "<style scoped>\n",
       "    .dataframe tbody tr th:only-of-type {\n",
       "        vertical-align: middle;\n",
       "    }\n",
       "\n",
       "    .dataframe tbody tr th {\n",
       "        vertical-align: top;\n",
       "    }\n",
       "\n",
       "    .dataframe thead th {\n",
       "        text-align: right;\n",
       "    }\n",
       "</style>\n",
       "<table border=\"1\" class=\"dataframe\">\n",
       "  <thead>\n",
       "    <tr style=\"text-align: right;\">\n",
       "      <th></th>\n",
       "      <th>0</th>\n",
       "      <th>1</th>\n",
       "      <th>2</th>\n",
       "    </tr>\n",
       "  </thead>\n",
       "  <tbody>\n",
       "    <tr>\n",
       "      <th>1</th>\n",
       "      <td>D00AAN</td>\n",
       "      <td>DRUG__ID</td>\n",
       "      <td>D00AAN</td>\n",
       "    </tr>\n",
       "    <tr>\n",
       "      <th>2</th>\n",
       "      <td>D00AAN</td>\n",
       "      <td>DRUGCLAS</td>\n",
       "      <td>Investigative Drug(s)</td>\n",
       "    </tr>\n",
       "    <tr>\n",
       "      <th>3</th>\n",
       "      <td>D00AAN</td>\n",
       "      <td>DRUGINCH</td>\n",
       "      <td>1S/C42H47ClN4O5S/c43-28-12-16-31(17-13-28)53(5...</td>\n",
       "    </tr>\n",
       "    <tr>\n",
       "      <th>4</th>\n",
       "      <td>D00AAN</td>\n",
       "      <td>DRUGINKE</td>\n",
       "      <td>MSUMHGMGRZWLMN-WXPZYUJUSA-N</td>\n",
       "    </tr>\n",
       "    <tr>\n",
       "      <th>5</th>\n",
       "      <td>D00AAN</td>\n",
       "      <td>DRUGSMIL</td>\n",
       "      <td>C1CCN2CCC3C(=CC(CCC=CC1)(C4C3(C2)CC5N4CCCC(=O)...</td>\n",
       "    </tr>\n",
       "  </tbody>\n",
       "</table>\n",
       "</div>"
      ],
      "text/plain": [
       "        0         1                                                  2\n",
       "1  D00AAN  DRUG__ID                                             D00AAN\n",
       "2  D00AAN  DRUGCLAS                              Investigative Drug(s)\n",
       "3  D00AAN  DRUGINCH  1S/C42H47ClN4O5S/c43-28-12-16-31(17-13-28)53(5...\n",
       "4  D00AAN  DRUGINKE                        MSUMHGMGRZWLMN-WXPZYUJUSA-N\n",
       "5  D00AAN  DRUGSMIL  C1CCN2CCC3C(=CC(CCC=CC1)(C4C3(C2)CC5N4CCCC(=O)..."
      ]
     },
     "execution_count": 2,
     "metadata": {},
     "output_type": "execute_result"
    }
   ],
   "source": [
    "drug_raw_data = pd.read_table('D:/study_data/DrugTarget/TTD/P1-02-TTD_drug_download.txt',\n",
    "                              sep='\\t', skiprows=28, header=None)\n",
    "drug_raw_data = drug_raw_data.dropna(how='all')\n",
    "drug_raw_data.head()"
   ]
  },
  {
   "cell_type": "code",
   "execution_count": 3,
   "metadata": {},
   "outputs": [
    {
     "data": {
      "text/plain": [
       "41818"
      ]
     },
     "execution_count": 3,
     "metadata": {},
     "output_type": "execute_result"
    }
   ],
   "source": [
    "len(set(drug_raw_data[0].tolist()))"
   ]
  },
  {
   "cell_type": "code",
   "execution_count": 10,
   "metadata": {},
   "outputs": [],
   "source": [
    "drugs = sorted(list(set(drug_raw_data[0].tolist())))\n",
    "therap_classes, drug_types, drug_inchis, drug_inchikeys, drug_smiles, status, drug_classes, comp_classes = \\\n",
    "    [], [], [], [], [], [], [], []\n",
    "abbs = ['THERCLAS', 'DRUGTYPE', 'DRUGINCH', 'DRUGINKE', 'DRUGSMIL', 'HIGHSTAT', 'DRUGCLAS', 'COMPCLAS']\n",
    "lsts = [therap_classes, drug_types, drug_inchis, drug_inchikeys, drug_smiles, status, drug_classes, comp_classes]\n",
    "# This way is too time-consuming!!!\n",
    "# for drug in tqdm(drugs):\n",
    "#     for abb, lst in zip(abbs, lsts):\n",
    "#         tmp = drug_raw_data[(drug_raw_data[0] == drug) & (drug_raw_data[1] == abb)]\n",
    "#         try:\n",
    "#             value = tmp.iloc[0, 2]\n",
    "#             lst.append(value)\n",
    "#         except:\n",
    "#             lst.append(None)\n",
    "therap_classes_dict, drug_types_dict, drug_inchis_dict, drug_inchikeys_dict, drug_smiles_dict, status_dict, drug_classes_dict, comp_classes_dict = \\\n",
    "    {}, {}, {}, {}, {}, {}, {}, {}\n",
    "dcts = [therap_classes_dict, drug_types_dict, drug_inchis_dict, drug_inchikeys_dict, drug_smiles_dict, status_dict, drug_classes_dict, comp_classes_dict]\n",
    "for abb, dct in zip(abbs, dcts):\n",
    "    abb_drug_raw_df = drug_raw_data[drug_raw_data[1] == abb][[0, 2]]\n",
    "    for drug, value in abb_drug_raw_df.values:\n",
    "        dct[drug] = value\n",
    "\n",
    "for lst, dct in zip(lsts,dcts):\n",
    "    lst += [dct[drug] if drug in dct else None for drug in drugs]"
   ]
  },
  {
   "cell_type": "code",
   "execution_count": 11,
   "metadata": {},
   "outputs": [],
   "source": [
    "drug_df = pd.DataFrame({\n",
    "    'drug_id': drugs,\n",
    "    'therap_class': therap_classes,\n",
    "    'drug_type': drug_types,\n",
    "    'InchI': drug_inchis,\n",
    "    'InchIKey': drug_inchikeys,\n",
    "    'smiles': drug_smiles,\n",
    "    'status': status,\n",
    "    'drug_class': drug_classes,\n",
    "    'compound_class': comp_classes\n",
    "})\n",
    "\n",
    "drug_df.to_csv('D:/study_data/DrugTarget/TTD/Processed_drug_info.csv', index=False)"
   ]
  },
  {
   "cell_type": "code",
   "execution_count": 12,
   "metadata": {},
   "outputs": [
    {
     "data": {
      "text/html": [
       "<div>\n",
       "<style scoped>\n",
       "    .dataframe tbody tr th:only-of-type {\n",
       "        vertical-align: middle;\n",
       "    }\n",
       "\n",
       "    .dataframe tbody tr th {\n",
       "        vertical-align: top;\n",
       "    }\n",
       "\n",
       "    .dataframe thead th {\n",
       "        text-align: right;\n",
       "    }\n",
       "</style>\n",
       "<table border=\"1\" class=\"dataframe\">\n",
       "  <thead>\n",
       "    <tr style=\"text-align: right;\">\n",
       "      <th></th>\n",
       "      <th>drug_id</th>\n",
       "      <th>therap_class</th>\n",
       "      <th>drug_type</th>\n",
       "      <th>InchI</th>\n",
       "      <th>InchIKey</th>\n",
       "      <th>smiles</th>\n",
       "      <th>status</th>\n",
       "      <th>drug_class</th>\n",
       "      <th>compound_class</th>\n",
       "    </tr>\n",
       "  </thead>\n",
       "  <tbody>\n",
       "    <tr>\n",
       "      <th>0</th>\n",
       "      <td>D00AAN</td>\n",
       "      <td>None</td>\n",
       "      <td>Small molecular drug</td>\n",
       "      <td>1S/C42H47ClN4O5S/c43-28-12-16-31(17-13-28)53(5...</td>\n",
       "      <td>MSUMHGMGRZWLMN-WXPZYUJUSA-N</td>\n",
       "      <td>C1CCN2CCC3C(=CC(CCC=CC1)(C4C3(C2)CC5N4CCCC(=O)...</td>\n",
       "      <td>Investigative</td>\n",
       "      <td>Investigative Drug(s)</td>\n",
       "      <td>None</td>\n",
       "    </tr>\n",
       "    <tr>\n",
       "      <th>1</th>\n",
       "      <td>D00AAU</td>\n",
       "      <td>None</td>\n",
       "      <td>Small molecular drug</td>\n",
       "      <td>1S/C18H22O2/c1-3-17(13-7-5-9-15(19)11-13)18(4-...</td>\n",
       "      <td>KUJAWCSIKNKXLL-UHFFFAOYSA-N</td>\n",
       "      <td>CCC(C1=CC(=CC=C1)O)C(CC)C2=CC(=CC=C2)O</td>\n",
       "      <td>Investigative</td>\n",
       "      <td>Investigative Drug(s)</td>\n",
       "      <td>None</td>\n",
       "    </tr>\n",
       "    <tr>\n",
       "      <th>2</th>\n",
       "      <td>D00ABE</td>\n",
       "      <td>None</td>\n",
       "      <td>None</td>\n",
       "      <td>None</td>\n",
       "      <td>None</td>\n",
       "      <td>None</td>\n",
       "      <td>Phase 2</td>\n",
       "      <td>Clinical Trial Drug(s)</td>\n",
       "      <td>None</td>\n",
       "    </tr>\n",
       "    <tr>\n",
       "      <th>3</th>\n",
       "      <td>D00ABO</td>\n",
       "      <td>None</td>\n",
       "      <td>Small molecular drug</td>\n",
       "      <td>1S/C20H20N4O/c25-20(24-13-11-21-12-14-24)16-8-...</td>\n",
       "      <td>YYLKKYCXAOBSRM-JXMROGBWSA-N</td>\n",
       "      <td>C1CN(CCN1)C(=O)C2=CC=C(C=C2)C=CC3=NNC4=CC=CC=C43</td>\n",
       "      <td>Phase 1</td>\n",
       "      <td>Clinical Trial Drug(s)</td>\n",
       "      <td>None</td>\n",
       "    </tr>\n",
       "    <tr>\n",
       "      <th>4</th>\n",
       "      <td>D00ABW</td>\n",
       "      <td>None</td>\n",
       "      <td>None</td>\n",
       "      <td>None</td>\n",
       "      <td>None</td>\n",
       "      <td>None</td>\n",
       "      <td>Discontinued in Phase 1</td>\n",
       "      <td>Discontinued Drug(s)</td>\n",
       "      <td>None</td>\n",
       "    </tr>\n",
       "  </tbody>\n",
       "</table>\n",
       "</div>"
      ],
      "text/plain": [
       "  drug_id therap_class             drug_type  \\\n",
       "0  D00AAN         None  Small molecular drug   \n",
       "1  D00AAU         None  Small molecular drug   \n",
       "2  D00ABE         None                  None   \n",
       "3  D00ABO         None  Small molecular drug   \n",
       "4  D00ABW         None                  None   \n",
       "\n",
       "                                               InchI  \\\n",
       "0  1S/C42H47ClN4O5S/c43-28-12-16-31(17-13-28)53(5...   \n",
       "1  1S/C18H22O2/c1-3-17(13-7-5-9-15(19)11-13)18(4-...   \n",
       "2                                               None   \n",
       "3  1S/C20H20N4O/c25-20(24-13-11-21-12-14-24)16-8-...   \n",
       "4                                               None   \n",
       "\n",
       "                      InchIKey  \\\n",
       "0  MSUMHGMGRZWLMN-WXPZYUJUSA-N   \n",
       "1  KUJAWCSIKNKXLL-UHFFFAOYSA-N   \n",
       "2                         None   \n",
       "3  YYLKKYCXAOBSRM-JXMROGBWSA-N   \n",
       "4                         None   \n",
       "\n",
       "                                              smiles                   status  \\\n",
       "0  C1CCN2CCC3C(=CC(CCC=CC1)(C4C3(C2)CC5N4CCCC(=O)...            Investigative   \n",
       "1             CCC(C1=CC(=CC=C1)O)C(CC)C2=CC(=CC=C2)O            Investigative   \n",
       "2                                               None                  Phase 2   \n",
       "3   C1CN(CCN1)C(=O)C2=CC=C(C=C2)C=CC3=NNC4=CC=CC=C43                  Phase 1   \n",
       "4                                               None  Discontinued in Phase 1   \n",
       "\n",
       "               drug_class compound_class  \n",
       "0   Investigative Drug(s)           None  \n",
       "1   Investigative Drug(s)           None  \n",
       "2  Clinical Trial Drug(s)           None  \n",
       "3  Clinical Trial Drug(s)           None  \n",
       "4    Discontinued Drug(s)           None  "
      ]
     },
     "execution_count": 12,
     "metadata": {},
     "output_type": "execute_result"
    }
   ],
   "source": [
    "drug_df.head()"
   ]
  },
  {
   "attachments": {},
   "cell_type": "markdown",
   "metadata": {},
   "source": [
    "### Drug ID mappings"
   ]
  },
  {
   "cell_type": "code",
   "execution_count": 13,
   "metadata": {},
   "outputs": [
    {
     "data": {
      "text/html": [
       "<div>\n",
       "<style scoped>\n",
       "    .dataframe tbody tr th:only-of-type {\n",
       "        vertical-align: middle;\n",
       "    }\n",
       "\n",
       "    .dataframe tbody tr th {\n",
       "        vertical-align: top;\n",
       "    }\n",
       "\n",
       "    .dataframe thead th {\n",
       "        text-align: right;\n",
       "    }\n",
       "</style>\n",
       "<table border=\"1\" class=\"dataframe\">\n",
       "  <thead>\n",
       "    <tr style=\"text-align: right;\">\n",
       "      <th></th>\n",
       "      <th>0</th>\n",
       "      <th>1</th>\n",
       "      <th>2</th>\n",
       "    </tr>\n",
       "  </thead>\n",
       "  <tbody>\n",
       "    <tr>\n",
       "      <th>0</th>\n",
       "      <td>D00AAN</td>\n",
       "      <td>TTDDRUID</td>\n",
       "      <td>D00AAN</td>\n",
       "    </tr>\n",
       "    <tr>\n",
       "      <th>1</th>\n",
       "      <td>D00AAN</td>\n",
       "      <td>DRUGNAME</td>\n",
       "      <td>8-O-(4-chlorobenzenesulfonyl)manzamine F</td>\n",
       "    </tr>\n",
       "    <tr>\n",
       "      <th>2</th>\n",
       "      <td>D00AAN</td>\n",
       "      <td>D_FOMULA</td>\n",
       "      <td>C42H47ClN4O5S</td>\n",
       "    </tr>\n",
       "  </tbody>\n",
       "</table>\n",
       "</div>"
      ],
      "text/plain": [
       "        0         1                                         2\n",
       "0  D00AAN  TTDDRUID                                    D00AAN\n",
       "1  D00AAN  DRUGNAME  8-O-(4-chlorobenzenesulfonyl)manzamine F\n",
       "2  D00AAN  D_FOMULA                             C42H47ClN4O5S"
      ]
     },
     "execution_count": 13,
     "metadata": {},
     "output_type": "execute_result"
    }
   ],
   "source": [
    "mapping_raw_data = pd.read_table('D:/study_data/DrugTarget/TTD/P1-03-TTD_crossmatching.txt',\n",
    "                                 sep='\\t', skiprows=27, header=None)\n",
    "mapping_raw_data = mapping_raw_data.dropna(how='all')\n",
    "mapping_raw_data.head(3)"
   ]
  },
  {
   "cell_type": "code",
   "execution_count": 15,
   "metadata": {},
   "outputs": [
    {
     "data": {
      "text/plain": [
       "((129222, 3), 25258)"
      ]
     },
     "execution_count": 15,
     "metadata": {},
     "output_type": "execute_result"
    }
   ],
   "source": [
    "mapping_raw_data.shape, len(set(mapping_raw_data[0].tolist()))"
   ]
  },
  {
   "cell_type": "code",
   "execution_count": 17,
   "metadata": {},
   "outputs": [],
   "source": [
    "m_drugs = sorted(list(set(mapping_raw_data[0].tolist())))\n",
    "drug_names, drug_cas_numbers, drug_formulars, drug_cids, drug_sids, drug_chebi_ids = [], [], [], [], [], []\n",
    "lsts = [drug_names, drug_cas_numbers, drug_formulars, drug_cids, drug_sids, drug_chebi_ids]\n",
    "drug_names_dict, drug_cas_numbers_dict, drug_formulars_dict, drug_cids_dict, drug_sids_dict, drug_chebi_ids_dict = \\\n",
    "    {}, {}, {}, {}, {}, {}\n",
    "abbs = ['DRUGNAME', 'CASNUMBE', 'D_FOMULA', 'PUBCHCID', 'PUBCHSID', 'CHEBI_ID']\n",
    "dcts = [drug_names_dict, drug_cas_numbers_dict, drug_formulars_dict, drug_cids_dict, drug_sids_dict, drug_chebi_ids_dict]\n",
    "for abb, dct in zip(abbs, dcts):\n",
    "    abb_df = mapping_raw_data[(mapping_raw_data[1] == abb)][[0, 2]]\n",
    "    for drug, value in abb_df.values:\n",
    "        dct[drug] = value\n",
    "\n",
    "for lst, dct in zip(lsts, dcts):\n",
    "    lst += [dct[drug] if drug in dct else None for drug in m_drugs]"
   ]
  },
  {
   "cell_type": "code",
   "execution_count": 18,
   "metadata": {},
   "outputs": [
    {
     "data": {
      "text/html": [
       "<div>\n",
       "<style scoped>\n",
       "    .dataframe tbody tr th:only-of-type {\n",
       "        vertical-align: middle;\n",
       "    }\n",
       "\n",
       "    .dataframe tbody tr th {\n",
       "        vertical-align: top;\n",
       "    }\n",
       "\n",
       "    .dataframe thead th {\n",
       "        text-align: right;\n",
       "    }\n",
       "</style>\n",
       "<table border=\"1\" class=\"dataframe\">\n",
       "  <thead>\n",
       "    <tr style=\"text-align: right;\">\n",
       "      <th></th>\n",
       "      <th>drug_id</th>\n",
       "      <th>drug_name</th>\n",
       "      <th>CAS_number</th>\n",
       "      <th>formular</th>\n",
       "      <th>pubchem_cid</th>\n",
       "      <th>pubchem_sid</th>\n",
       "      <th>ChEBI_id</th>\n",
       "    </tr>\n",
       "  </thead>\n",
       "  <tbody>\n",
       "    <tr>\n",
       "      <th>0</th>\n",
       "      <td>D00AAN</td>\n",
       "      <td>8-O-(4-chlorobenzenesulfonyl)manzamine F</td>\n",
       "      <td>None</td>\n",
       "      <td>C42H47ClN4O5S</td>\n",
       "      <td>23643731</td>\n",
       "      <td>None</td>\n",
       "      <td>None</td>\n",
       "    </tr>\n",
       "    <tr>\n",
       "      <th>1</th>\n",
       "      <td>D00AAU</td>\n",
       "      <td>3-[1-ethyl-2-(3-hydroxyphenyl)butyl]phenol</td>\n",
       "      <td>CAS 68266-24-0</td>\n",
       "      <td>C18H22O2</td>\n",
       "      <td>100424</td>\n",
       "      <td>None</td>\n",
       "      <td>None</td>\n",
       "    </tr>\n",
       "    <tr>\n",
       "      <th>2</th>\n",
       "      <td>D00ABO</td>\n",
       "      <td>KW-2449</td>\n",
       "      <td>CAS 841258-76-2</td>\n",
       "      <td>C20H20N4O</td>\n",
       "      <td>11427553</td>\n",
       "      <td>16524833; 23572482; 42506629; 78872837; 104253...</td>\n",
       "      <td>None</td>\n",
       "    </tr>\n",
       "    <tr>\n",
       "      <th>3</th>\n",
       "      <td>D00ACC</td>\n",
       "      <td>ND1251</td>\n",
       "      <td>CAS 280783-56-4</td>\n",
       "      <td>C26H31N3O</td>\n",
       "      <td>9844019</td>\n",
       "      <td>14805894; 15676330; 24141633; 44942090; 496842...</td>\n",
       "      <td>None</td>\n",
       "    </tr>\n",
       "    <tr>\n",
       "      <th>4</th>\n",
       "      <td>D00ACL</td>\n",
       "      <td>PMID28092474-Compound-33d</td>\n",
       "      <td>None</td>\n",
       "      <td>C16H13FN6O2</td>\n",
       "      <td>117703486</td>\n",
       "      <td>None</td>\n",
       "      <td>None</td>\n",
       "    </tr>\n",
       "  </tbody>\n",
       "</table>\n",
       "</div>"
      ],
      "text/plain": [
       "  drug_id                                   drug_name       CAS_number  \\\n",
       "0  D00AAN    8-O-(4-chlorobenzenesulfonyl)manzamine F             None   \n",
       "1  D00AAU  3-[1-ethyl-2-(3-hydroxyphenyl)butyl]phenol   CAS 68266-24-0   \n",
       "2  D00ABO                                     KW-2449  CAS 841258-76-2   \n",
       "3  D00ACC                                      ND1251  CAS 280783-56-4   \n",
       "4  D00ACL                   PMID28092474-Compound-33d             None   \n",
       "\n",
       "        formular pubchem_cid  \\\n",
       "0  C42H47ClN4O5S    23643731   \n",
       "1       C18H22O2      100424   \n",
       "2      C20H20N4O    11427553   \n",
       "3      C26H31N3O     9844019   \n",
       "4    C16H13FN6O2   117703486   \n",
       "\n",
       "                                         pubchem_sid ChEBI_id  \n",
       "0                                               None     None  \n",
       "1                                               None     None  \n",
       "2  16524833; 23572482; 42506629; 78872837; 104253...     None  \n",
       "3  14805894; 15676330; 24141633; 44942090; 496842...     None  \n",
       "4                                               None     None  "
      ]
     },
     "execution_count": 18,
     "metadata": {},
     "output_type": "execute_result"
    }
   ],
   "source": [
    "mapping_df = pd.DataFrame({\n",
    "    'drug_id': m_drugs,\n",
    "    'drug_name': drug_names,\n",
    "    'CAS_number': drug_cas_numbers,\n",
    "    'formular': drug_formulars,\n",
    "    'pubchem_cid': drug_cids,\n",
    "    'pubchem_sid': drug_sids,\n",
    "    'ChEBI_id': drug_chebi_ids\n",
    "})\n",
    "mapping_df.to_csv('D:/study_data/DrugTarget/TTD/Processed_drug_mapping_info.csv', index=False)\n",
    "mapping_df.head()"
   ]
  },
  {
   "attachments": {},
   "cell_type": "markdown",
   "metadata": {},
   "source": [
    "## Drug & Target"
   ]
  },
  {
   "cell_type": "code",
   "execution_count": 7,
   "metadata": {},
   "outputs": [
    {
     "data": {
      "text/html": [
       "<div>\n",
       "<style scoped>\n",
       "    .dataframe tbody tr th:only-of-type {\n",
       "        vertical-align: middle;\n",
       "    }\n",
       "\n",
       "    .dataframe tbody tr th {\n",
       "        vertical-align: top;\n",
       "    }\n",
       "\n",
       "    .dataframe thead th {\n",
       "        text-align: right;\n",
       "    }\n",
       "</style>\n",
       "<table border=\"1\" class=\"dataframe\">\n",
       "  <thead>\n",
       "    <tr style=\"text-align: right;\">\n",
       "      <th></th>\n",
       "      <th>TTD Target ID</th>\n",
       "      <th>TTD Drug/Compound ID</th>\n",
       "      <th>Pubchem CID</th>\n",
       "      <th>Activity</th>\n",
       "    </tr>\n",
       "  </thead>\n",
       "  <tbody>\n",
       "    <tr>\n",
       "      <th>0</th>\n",
       "      <td>T34562</td>\n",
       "      <td>CANH78</td>\n",
       "      <td>17280</td>\n",
       "      <td>IC50 = 3270000 nM</td>\n",
       "    </tr>\n",
       "    <tr>\n",
       "      <th>1</th>\n",
       "      <td>T34562</td>\n",
       "      <td>C27IRS</td>\n",
       "      <td>197934</td>\n",
       "      <td>IC50 = 1280000 nM</td>\n",
       "    </tr>\n",
       "  </tbody>\n",
       "</table>\n",
       "</div>"
      ],
      "text/plain": [
       "  TTD Target ID TTD Drug/Compound ID  Pubchem CID           Activity\n",
       "0        T34562               CANH78        17280  IC50 = 3270000 nM\n",
       "1        T34562               C27IRS       197934  IC50 = 1280000 nM"
      ]
     },
     "execution_count": 7,
     "metadata": {},
     "output_type": "execute_result"
    }
   ],
   "source": [
    "activity_df = pd.read_table('D:/study_data/DrugTarget/TTD/P1-09-Target_compound_activity.txt', sep='\\t', header=0)\n",
    "activity_df.head(2)"
   ]
  },
  {
   "cell_type": "code",
   "execution_count": 10,
   "metadata": {},
   "outputs": [],
   "source": [
    "activity_df['Affinity'] = activity_df['Activity'].apply(lambda item: float(item.split(' ')[2]))"
   ]
  },
  {
   "cell_type": "code",
   "execution_count": 14,
   "metadata": {},
   "outputs": [
    {
     "data": {
      "text/plain": [
       "468872"
      ]
     },
     "execution_count": 14,
     "metadata": {},
     "output_type": "execute_result"
    }
   ],
   "source": [
    "# keep affinity <= 1000 nM\n",
    "keep_activity_df = activity_df[activity_df['Affinity'] <= 1000.]\n",
    "len(keep_activity_df)"
   ]
  },
  {
   "cell_type": "code",
   "execution_count": 15,
   "metadata": {},
   "outputs": [],
   "source": [
    "keep_activity_df.iloc[:, :3].to_csv('D:/study_data/DrugTarget/TTD/Drug_target_pairs_1000.csv', index=False)"
   ]
  },
  {
   "attachments": {},
   "cell_type": "markdown",
   "metadata": {},
   "source": [
    "### Clinical data"
   ]
  },
  {
   "cell_type": "code",
   "execution_count": 16,
   "metadata": {},
   "outputs": [
    {
     "data": {
      "text/html": [
       "<div>\n",
       "<style scoped>\n",
       "    .dataframe tbody tr th:only-of-type {\n",
       "        vertical-align: middle;\n",
       "    }\n",
       "\n",
       "    .dataframe tbody tr th {\n",
       "        vertical-align: top;\n",
       "    }\n",
       "\n",
       "    .dataframe thead th {\n",
       "        text-align: right;\n",
       "    }\n",
       "</style>\n",
       "<table border=\"1\" class=\"dataframe\">\n",
       "  <thead>\n",
       "    <tr style=\"text-align: right;\">\n",
       "      <th></th>\n",
       "      <th>TargetID</th>\n",
       "      <th>DrugID</th>\n",
       "      <th>Highest_status</th>\n",
       "      <th>MOA</th>\n",
       "    </tr>\n",
       "  </thead>\n",
       "  <tbody>\n",
       "    <tr>\n",
       "      <th>0</th>\n",
       "      <td>T71390</td>\n",
       "      <td>D07OAC</td>\n",
       "      <td>Investigative</td>\n",
       "      <td>Inhibitor</td>\n",
       "    </tr>\n",
       "    <tr>\n",
       "      <th>1</th>\n",
       "      <td>T70309</td>\n",
       "      <td>D07OAC</td>\n",
       "      <td>Investigative</td>\n",
       "      <td>Inhibitor</td>\n",
       "    </tr>\n",
       "  </tbody>\n",
       "</table>\n",
       "</div>"
      ],
      "text/plain": [
       "  TargetID  DrugID Highest_status        MOA\n",
       "0   T71390  D07OAC  Investigative  Inhibitor\n",
       "1   T70309  D07OAC  Investigative  Inhibitor"
      ]
     },
     "execution_count": 16,
     "metadata": {},
     "output_type": "execute_result"
    }
   ],
   "source": [
    "clinical_data = pd.read_excel('D:/study_data/DrugTarget/TTD/P1-07-Drug-TargetMapping.xlsx')\n",
    "clinical_data.head(2)"
   ]
  },
  {
   "cell_type": "code",
   "execution_count": 19,
   "metadata": {},
   "outputs": [
    {
     "data": {
      "text/plain": [
       "(44663, 4)"
      ]
     },
     "execution_count": 19,
     "metadata": {},
     "output_type": "execute_result"
    }
   ],
   "source": [
    "clinical_data.shape"
   ]
  },
  {
   "cell_type": "code",
   "execution_count": 20,
   "metadata": {},
   "outputs": [
    {
     "data": {
      "text/plain": [
       "Highest_status                 \n",
       "Investigative                      24859\n",
       "Patented                            6017\n",
       "Phase 2                             2624\n",
       "Approved                            2617\n",
       "Phase 1                             2497\n",
       "Terminated                          1449\n",
       "Phase 3                             1088\n",
       "Discontinued in Phase 2              922\n",
       "Phase 1/2                            734\n",
       "Discontinued in Phase 1              576\n",
       "Preclinical                          520\n",
       "Discontinued in Phase 3              218\n",
       "Phase 2/3                            128\n",
       "Clinical trial                        70\n",
       "Withdrawn from market                 56\n",
       "Phase 4                               54\n",
       "Phase 3 Trial                         48\n",
       "Discontinued in Phase 1/2             33\n",
       "Phase 2 Trial                         27\n",
       "Discontinued in Preregistration       26\n",
       "Phase 2/3 Trial                       12\n",
       "Preregistration                       12\n",
       "Phase 2a                              11\n",
       "Phase 1 Trial                          9\n",
       "Registered                             6\n",
       "approved                               6\n",
       "Phase 0                                6\n",
       "Phase 1b                               5\n",
       "Phase 2b                               5\n",
       "Approved (orphan drug)                 5\n",
       "Phase 1/2a                             3\n",
       "Phase 1/2 Trial                        3\n",
       "NDA filed                              3\n",
       "Discontinued in Phase 2/3              3\n",
       "Phase 1b/2a                            2\n",
       "Discontinued in Phase 4                2\n",
       "Discontinue in Phase 1 Trial           2\n",
       "Approval submitted                     1\n",
       "Discontinued in Phase 2b               1\n",
       "Discontinued in Phase 2a               1\n",
       "BLA submitted                          1\n",
       "Application submitted                  1\n",
       "dtype: int64"
      ]
     },
     "execution_count": 20,
     "metadata": {},
     "output_type": "execute_result"
    }
   ],
   "source": [
    "clinical_data.value_counts(subset=['Highest_status'])"
   ]
  },
  {
   "cell_type": "code",
   "execution_count": null,
   "metadata": {},
   "outputs": [],
   "source": []
  }
 ],
 "metadata": {
  "kernelspec": {
   "display_name": "my-torch",
   "language": "python",
   "name": "python3"
  },
  "language_info": {
   "codemirror_mode": {
    "name": "ipython",
    "version": 3
   },
   "file_extension": ".py",
   "mimetype": "text/x-python",
   "name": "python",
   "nbconvert_exporter": "python",
   "pygments_lexer": "ipython3",
   "version": "3.7.1"
  },
  "orig_nbformat": 4,
  "vscode": {
   "interpreter": {
    "hash": "c0974cc73794542dbe9421a19f618ed739ff4a121da27e795afd72ba6ef7b90a"
   }
  }
 },
 "nbformat": 4,
 "nbformat_minor": 2
}
