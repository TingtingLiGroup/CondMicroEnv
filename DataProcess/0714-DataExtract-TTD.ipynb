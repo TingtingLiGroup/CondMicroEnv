{
 "cells": [
  {
   "cell_type": "code",
   "execution_count": 1,
   "metadata": {},
   "outputs": [],
   "source": [
    "import os, sys\n",
    "import numpy as np\n",
    "import pandas as pd\n",
    "from tqdm import tqdm\n",
    "import pickle as pkl"
   ]
  },
  {
   "attachments": {},
   "cell_type": "markdown",
   "metadata": {},
   "source": [
    "## Load Target & Drug & Interactions"
   ]
  },
  {
   "cell_type": "code",
   "execution_count": 2,
   "metadata": {},
   "outputs": [
    {
     "name": "stdout",
     "output_type": "stream",
     "text": [
      "(4221, 9)\n"
     ]
    },
    {
     "data": {
      "text/html": [
       "<div>\n",
       "<style scoped>\n",
       "    .dataframe tbody tr th:only-of-type {\n",
       "        vertical-align: middle;\n",
       "    }\n",
       "\n",
       "    .dataframe tbody tr th {\n",
       "        vertical-align: top;\n",
       "    }\n",
       "\n",
       "    .dataframe thead th {\n",
       "        text-align: right;\n",
       "    }\n",
       "</style>\n",
       "<table border=\"1\" class=\"dataframe\">\n",
       "  <thead>\n",
       "    <tr style=\"text-align: right;\">\n",
       "      <th></th>\n",
       "      <th>target_id</th>\n",
       "      <th>uniprot_id</th>\n",
       "      <th>target_name</th>\n",
       "      <th>gene_name</th>\n",
       "      <th>target_type</th>\n",
       "      <th>PDB_id</th>\n",
       "      <th>biochemical_class</th>\n",
       "      <th>sequence</th>\n",
       "      <th>drug_info</th>\n",
       "    </tr>\n",
       "  </thead>\n",
       "  <tbody>\n",
       "    <tr>\n",
       "      <th>0</th>\n",
       "      <td>T00032</td>\n",
       "      <td>OSTP_HUMAN</td>\n",
       "      <td>Osteopontin (SPP1)</td>\n",
       "      <td>SPP1</td>\n",
       "      <td>Literature-reported target</td>\n",
       "      <td>3DSF; 3CXD</td>\n",
       "      <td>NaN</td>\n",
       "      <td>MRIAVICFCLLGITCAIPVKQADSGSSEEKQLYNKYPDAVATWLNP...</td>\n",
       "      <td>[]</td>\n",
       "    </tr>\n",
       "    <tr>\n",
       "      <th>1</th>\n",
       "      <td>T00033</td>\n",
       "      <td>TGFA_HUMAN</td>\n",
       "      <td>Transforming growth factor alpha (TGFA)</td>\n",
       "      <td>TGFA</td>\n",
       "      <td>Clinical trial target</td>\n",
       "      <td>5KN5; 4TGF; 3TGF; 3.00E+50; 2TGF</td>\n",
       "      <td>Growth factor</td>\n",
       "      <td>MVPSAGQLALFALGIVLAACQALENSTSPLSADPPVAAAVVSHFND...</td>\n",
       "      <td>[['D08EIK' 'LY3016859' 'Phase 1/2']]</td>\n",
       "    </tr>\n",
       "  </tbody>\n",
       "</table>\n",
       "</div>"
      ],
      "text/plain": [
       "  target_id  uniprot_id                              target_name gene_name  \\\n",
       "0    T00032  OSTP_HUMAN                       Osteopontin (SPP1)      SPP1   \n",
       "1    T00033  TGFA_HUMAN  Transforming growth factor alpha (TGFA)      TGFA   \n",
       "\n",
       "                  target_type                            PDB_id  \\\n",
       "0  Literature-reported target                        3DSF; 3CXD   \n",
       "1       Clinical trial target  5KN5; 4TGF; 3TGF; 3.00E+50; 2TGF   \n",
       "\n",
       "  biochemical_class                                           sequence  \\\n",
       "0               NaN  MRIAVICFCLLGITCAIPVKQADSGSSEEKQLYNKYPDAVATWLNP...   \n",
       "1     Growth factor  MVPSAGQLALFALGIVLAACQALENSTSPLSADPPVAAAVVSHFND...   \n",
       "\n",
       "                              drug_info  \n",
       "0                                    []  \n",
       "1  [['D08EIK' 'LY3016859' 'Phase 1/2']]  "
      ]
     },
     "execution_count": 2,
     "metadata": {},
     "output_type": "execute_result"
    }
   ],
   "source": [
    "target_df = pd.read_csv('D:/study_data/DrugTarget/TTD/Processed_target_info.csv')\n",
    "print(target_df.shape)\n",
    "target_df.head(2)"
   ]
  },
  {
   "cell_type": "code",
   "execution_count": 3,
   "metadata": {},
   "outputs": [
    {
     "name": "stdout",
     "output_type": "stream",
     "text": [
      "(41818, 9)\n"
     ]
    },
    {
     "data": {
      "text/html": [
       "<div>\n",
       "<style scoped>\n",
       "    .dataframe tbody tr th:only-of-type {\n",
       "        vertical-align: middle;\n",
       "    }\n",
       "\n",
       "    .dataframe tbody tr th {\n",
       "        vertical-align: top;\n",
       "    }\n",
       "\n",
       "    .dataframe thead th {\n",
       "        text-align: right;\n",
       "    }\n",
       "</style>\n",
       "<table border=\"1\" class=\"dataframe\">\n",
       "  <thead>\n",
       "    <tr style=\"text-align: right;\">\n",
       "      <th></th>\n",
       "      <th>drug_id</th>\n",
       "      <th>therap_class</th>\n",
       "      <th>drug_type</th>\n",
       "      <th>InchI</th>\n",
       "      <th>InchIKey</th>\n",
       "      <th>smiles</th>\n",
       "      <th>status</th>\n",
       "      <th>drug_class</th>\n",
       "      <th>compound_class</th>\n",
       "    </tr>\n",
       "  </thead>\n",
       "  <tbody>\n",
       "    <tr>\n",
       "      <th>0</th>\n",
       "      <td>D00AAN</td>\n",
       "      <td>NaN</td>\n",
       "      <td>Small molecular drug</td>\n",
       "      <td>1S/C42H47ClN4O5S/c43-28-12-16-31(17-13-28)53(5...</td>\n",
       "      <td>MSUMHGMGRZWLMN-WXPZYUJUSA-N</td>\n",
       "      <td>C1CCN2CCC3C(=CC(CCC=CC1)(C4C3(C2)CC5N4CCCC(=O)...</td>\n",
       "      <td>Investigative</td>\n",
       "      <td>Investigative Drug(s)</td>\n",
       "      <td>NaN</td>\n",
       "    </tr>\n",
       "    <tr>\n",
       "      <th>1</th>\n",
       "      <td>D00AAU</td>\n",
       "      <td>NaN</td>\n",
       "      <td>Small molecular drug</td>\n",
       "      <td>1S/C18H22O2/c1-3-17(13-7-5-9-15(19)11-13)18(4-...</td>\n",
       "      <td>KUJAWCSIKNKXLL-UHFFFAOYSA-N</td>\n",
       "      <td>CCC(C1=CC(=CC=C1)O)C(CC)C2=CC(=CC=C2)O</td>\n",
       "      <td>Investigative</td>\n",
       "      <td>Investigative Drug(s)</td>\n",
       "      <td>NaN</td>\n",
       "    </tr>\n",
       "  </tbody>\n",
       "</table>\n",
       "</div>"
      ],
      "text/plain": [
       "  drug_id therap_class             drug_type  \\\n",
       "0  D00AAN          NaN  Small molecular drug   \n",
       "1  D00AAU          NaN  Small molecular drug   \n",
       "\n",
       "                                               InchI  \\\n",
       "0  1S/C42H47ClN4O5S/c43-28-12-16-31(17-13-28)53(5...   \n",
       "1  1S/C18H22O2/c1-3-17(13-7-5-9-15(19)11-13)18(4-...   \n",
       "\n",
       "                      InchIKey  \\\n",
       "0  MSUMHGMGRZWLMN-WXPZYUJUSA-N   \n",
       "1  KUJAWCSIKNKXLL-UHFFFAOYSA-N   \n",
       "\n",
       "                                              smiles         status  \\\n",
       "0  C1CCN2CCC3C(=CC(CCC=CC1)(C4C3(C2)CC5N4CCCC(=O)...  Investigative   \n",
       "1             CCC(C1=CC(=CC=C1)O)C(CC)C2=CC(=CC=C2)O  Investigative   \n",
       "\n",
       "              drug_class compound_class  \n",
       "0  Investigative Drug(s)            NaN  \n",
       "1  Investigative Drug(s)            NaN  "
      ]
     },
     "execution_count": 3,
     "metadata": {},
     "output_type": "execute_result"
    }
   ],
   "source": [
    "drug_df = pd.read_csv('D:/study_data/DrugTarget/TTD/Processed_drug_info.csv')\n",
    "print(drug_df.shape)\n",
    "drug_df.head(2)"
   ]
  },
  {
   "cell_type": "code",
   "execution_count": 4,
   "metadata": {},
   "outputs": [
    {
     "name": "stdout",
     "output_type": "stream",
     "text": [
      "(44663, 4)\n"
     ]
    },
    {
     "data": {
      "text/html": [
       "<div>\n",
       "<style scoped>\n",
       "    .dataframe tbody tr th:only-of-type {\n",
       "        vertical-align: middle;\n",
       "    }\n",
       "\n",
       "    .dataframe tbody tr th {\n",
       "        vertical-align: top;\n",
       "    }\n",
       "\n",
       "    .dataframe thead th {\n",
       "        text-align: right;\n",
       "    }\n",
       "</style>\n",
       "<table border=\"1\" class=\"dataframe\">\n",
       "  <thead>\n",
       "    <tr style=\"text-align: right;\">\n",
       "      <th></th>\n",
       "      <th>target_id</th>\n",
       "      <th>drug_id</th>\n",
       "      <th>Highest_status</th>\n",
       "      <th>MOA</th>\n",
       "    </tr>\n",
       "  </thead>\n",
       "  <tbody>\n",
       "    <tr>\n",
       "      <th>0</th>\n",
       "      <td>T71390</td>\n",
       "      <td>D07OAC</td>\n",
       "      <td>Investigative</td>\n",
       "      <td>Inhibitor</td>\n",
       "    </tr>\n",
       "    <tr>\n",
       "      <th>1</th>\n",
       "      <td>T70309</td>\n",
       "      <td>D07OAC</td>\n",
       "      <td>Investigative</td>\n",
       "      <td>Inhibitor</td>\n",
       "    </tr>\n",
       "  </tbody>\n",
       "</table>\n",
       "</div>"
      ],
      "text/plain": [
       "  target_id drug_id Highest_status        MOA\n",
       "0    T71390  D07OAC  Investigative  Inhibitor\n",
       "1    T70309  D07OAC  Investigative  Inhibitor"
      ]
     },
     "execution_count": 4,
     "metadata": {},
     "output_type": "execute_result"
    }
   ],
   "source": [
    "clinical_data = pd.read_excel('D:/study_data/DrugTarget/TTD/P1-07-Drug-TargetMapping.xlsx')\n",
    "clinical_data = clinical_data.rename(columns={'TargetID': 'target_id', 'DrugID': 'drug_id'})\n",
    "print(clinical_data.shape)\n",
    "clinical_data.head(2)"
   ]
  },
  {
   "cell_type": "code",
   "execution_count": 5,
   "metadata": {},
   "outputs": [
    {
     "name": "stdout",
     "output_type": "stream",
     "text": [
      "(44663, 4)\n",
      "(44663, 12)\n",
      "(44663, 20)\n"
     ]
    }
   ],
   "source": [
    "# merge information\n",
    "print(clinical_data.shape)\n",
    "interaction_df = clinical_data.merge(target_df, how='left', on='target_id')\n",
    "print(interaction_df.shape)\n",
    "interaction_df = interaction_df.merge(drug_df, how='left', on='drug_id')\n",
    "print(interaction_df.shape)"
   ]
  },
  {
   "cell_type": "code",
   "execution_count": 6,
   "metadata": {},
   "outputs": [
    {
     "data": {
      "text/html": [
       "<div>\n",
       "<style scoped>\n",
       "    .dataframe tbody tr th:only-of-type {\n",
       "        vertical-align: middle;\n",
       "    }\n",
       "\n",
       "    .dataframe tbody tr th {\n",
       "        vertical-align: top;\n",
       "    }\n",
       "\n",
       "    .dataframe thead th {\n",
       "        text-align: right;\n",
       "    }\n",
       "</style>\n",
       "<table border=\"1\" class=\"dataframe\">\n",
       "  <thead>\n",
       "    <tr style=\"text-align: right;\">\n",
       "      <th></th>\n",
       "      <th>target_id</th>\n",
       "      <th>drug_id</th>\n",
       "      <th>Highest_status</th>\n",
       "      <th>MOA</th>\n",
       "      <th>uniprot_id</th>\n",
       "      <th>target_name</th>\n",
       "      <th>gene_name</th>\n",
       "      <th>target_type</th>\n",
       "      <th>PDB_id</th>\n",
       "      <th>biochemical_class</th>\n",
       "      <th>sequence</th>\n",
       "      <th>drug_info</th>\n",
       "      <th>therap_class</th>\n",
       "      <th>drug_type</th>\n",
       "      <th>InchI</th>\n",
       "      <th>InchIKey</th>\n",
       "      <th>smiles</th>\n",
       "      <th>status</th>\n",
       "      <th>drug_class</th>\n",
       "      <th>compound_class</th>\n",
       "    </tr>\n",
       "  </thead>\n",
       "  <tbody>\n",
       "    <tr>\n",
       "      <th>0</th>\n",
       "      <td>T71390</td>\n",
       "      <td>D07OAC</td>\n",
       "      <td>Investigative</td>\n",
       "      <td>Inhibitor</td>\n",
       "      <td>S5A2_HUMAN</td>\n",
       "      <td>Steroid 5-alpha-reductase 2 (SRD5A2)</td>\n",
       "      <td>SRD5A2</td>\n",
       "      <td>Successful target</td>\n",
       "      <td>NaN</td>\n",
       "      <td>CH-CH donor oxidoreductase</td>\n",
       "      <td>MQVQCQQSPVLAGSATLVALGALALYVAKPSGYGKHTESLKPAATR...</td>\n",
       "      <td>[['D08IWD' 'Finasteride' 'Approved']\\n ['D07BH...</td>\n",
       "      <td>NaN</td>\n",
       "      <td>Small molecular drug</td>\n",
       "      <td>1S/C10H13BrN6O3/c11-7-4-8(13)14-2-15-9(4)17(16...</td>\n",
       "      <td>LTTBFVDMHCIDPM-BHBWVORQSA-N</td>\n",
       "      <td>C1=NC(=C2C(=N1)N(N=C2Br)C3C(C(C(O3)CN)O)O)N</td>\n",
       "      <td>Investigative</td>\n",
       "      <td>Investigative Drug(s)</td>\n",
       "      <td>NaN</td>\n",
       "    </tr>\n",
       "    <tr>\n",
       "      <th>1</th>\n",
       "      <td>T70309</td>\n",
       "      <td>D07OAC</td>\n",
       "      <td>Investigative</td>\n",
       "      <td>Inhibitor</td>\n",
       "      <td>S5A1_HUMAN</td>\n",
       "      <td>Steroid 5-alpha-reductase 1 (SRD5A1)</td>\n",
       "      <td>SRD5A1</td>\n",
       "      <td>Clinical trial target</td>\n",
       "      <td>NaN</td>\n",
       "      <td>CH-CH donor oxidoreductase</td>\n",
       "      <td>MATATGVAEERLLAALAYLQCAVGCAVFARNRQTNSVYGRHALPSH...</td>\n",
       "      <td>[['D01CJY' 'FR-146687' 'Phase 2']\\n ['D0C1SI' ...</td>\n",
       "      <td>NaN</td>\n",
       "      <td>Small molecular drug</td>\n",
       "      <td>1S/C10H13BrN6O3/c11-7-4-8(13)14-2-15-9(4)17(16...</td>\n",
       "      <td>LTTBFVDMHCIDPM-BHBWVORQSA-N</td>\n",
       "      <td>C1=NC(=C2C(=N1)N(N=C2Br)C3C(C(C(O3)CN)O)O)N</td>\n",
       "      <td>Investigative</td>\n",
       "      <td>Investigative Drug(s)</td>\n",
       "      <td>NaN</td>\n",
       "    </tr>\n",
       "    <tr>\n",
       "      <th>2</th>\n",
       "      <td>T97071</td>\n",
       "      <td>D0Y6UB</td>\n",
       "      <td>Investigative</td>\n",
       "      <td>Inhibitor</td>\n",
       "      <td>FOLH1_HUMAN</td>\n",
       "      <td>Glutamate carboxypeptidase II (GCPII)</td>\n",
       "      <td>FOLH1</td>\n",
       "      <td>Successful target</td>\n",
       "      <td>6HKZ; 6HKJ; 6H7Z; 6H7Y; 6FE5</td>\n",
       "      <td>Peptidase</td>\n",
       "      <td>MWNLLHETDSAVATARRPRWLCAGALVLAGGFFLLGFLFGWFIKSS...</td>\n",
       "      <td>[['D09PGL' 'Capromab' 'Approved']\\n ['DBG46D' ...</td>\n",
       "      <td>NaN</td>\n",
       "      <td>Small molecular drug</td>\n",
       "      <td>1S/C6H11O7P/c7-5(8)2-1-4(6(9)10)3-14(11,12)13/...</td>\n",
       "      <td>ISEYJGQFXSTPMQ-UHFFFAOYSA-N</td>\n",
       "      <td>C(CC(=O)O)C(CP(=O)(O)O)C(=O)O</td>\n",
       "      <td>Investigative</td>\n",
       "      <td>Investigative Drug(s)</td>\n",
       "      <td>NaN</td>\n",
       "    </tr>\n",
       "  </tbody>\n",
       "</table>\n",
       "</div>"
      ],
      "text/plain": [
       "  target_id drug_id Highest_status        MOA   uniprot_id  \\\n",
       "0    T71390  D07OAC  Investigative  Inhibitor   S5A2_HUMAN   \n",
       "1    T70309  D07OAC  Investigative  Inhibitor   S5A1_HUMAN   \n",
       "2    T97071  D0Y6UB  Investigative  Inhibitor  FOLH1_HUMAN   \n",
       "\n",
       "                             target_name gene_name            target_type  \\\n",
       "0   Steroid 5-alpha-reductase 2 (SRD5A2)    SRD5A2      Successful target   \n",
       "1   Steroid 5-alpha-reductase 1 (SRD5A1)    SRD5A1  Clinical trial target   \n",
       "2  Glutamate carboxypeptidase II (GCPII)     FOLH1      Successful target   \n",
       "\n",
       "                         PDB_id           biochemical_class  \\\n",
       "0                           NaN  CH-CH donor oxidoreductase   \n",
       "1                           NaN  CH-CH donor oxidoreductase   \n",
       "2  6HKZ; 6HKJ; 6H7Z; 6H7Y; 6FE5                   Peptidase   \n",
       "\n",
       "                                            sequence  \\\n",
       "0  MQVQCQQSPVLAGSATLVALGALALYVAKPSGYGKHTESLKPAATR...   \n",
       "1  MATATGVAEERLLAALAYLQCAVGCAVFARNRQTNSVYGRHALPSH...   \n",
       "2  MWNLLHETDSAVATARRPRWLCAGALVLAGGFFLLGFLFGWFIKSS...   \n",
       "\n",
       "                                           drug_info therap_class  \\\n",
       "0  [['D08IWD' 'Finasteride' 'Approved']\\n ['D07BH...          NaN   \n",
       "1  [['D01CJY' 'FR-146687' 'Phase 2']\\n ['D0C1SI' ...          NaN   \n",
       "2  [['D09PGL' 'Capromab' 'Approved']\\n ['DBG46D' ...          NaN   \n",
       "\n",
       "              drug_type                                              InchI  \\\n",
       "0  Small molecular drug  1S/C10H13BrN6O3/c11-7-4-8(13)14-2-15-9(4)17(16...   \n",
       "1  Small molecular drug  1S/C10H13BrN6O3/c11-7-4-8(13)14-2-15-9(4)17(16...   \n",
       "2  Small molecular drug  1S/C6H11O7P/c7-5(8)2-1-4(6(9)10)3-14(11,12)13/...   \n",
       "\n",
       "                      InchIKey                                       smiles  \\\n",
       "0  LTTBFVDMHCIDPM-BHBWVORQSA-N  C1=NC(=C2C(=N1)N(N=C2Br)C3C(C(C(O3)CN)O)O)N   \n",
       "1  LTTBFVDMHCIDPM-BHBWVORQSA-N  C1=NC(=C2C(=N1)N(N=C2Br)C3C(C(C(O3)CN)O)O)N   \n",
       "2  ISEYJGQFXSTPMQ-UHFFFAOYSA-N                C(CC(=O)O)C(CP(=O)(O)O)C(=O)O   \n",
       "\n",
       "          status             drug_class compound_class  \n",
       "0  Investigative  Investigative Drug(s)            NaN  \n",
       "1  Investigative  Investigative Drug(s)            NaN  \n",
       "2  Investigative  Investigative Drug(s)            NaN  "
      ]
     },
     "execution_count": 6,
     "metadata": {},
     "output_type": "execute_result"
    }
   ],
   "source": [
    "interaction_df.head(3)"
   ]
  },
  {
   "cell_type": "code",
   "execution_count": 7,
   "metadata": {},
   "outputs": [],
   "source": [
    "keep_uniprot_ids = []\n",
    "uniprot_ids = interaction_df.uniprot_id.tolist()\n",
    "for u in uniprot_ids:\n",
    "    if type(u) == str:\n",
    "        if '; ' in u:\n",
    "            keep_uniprot_ids += u.split('; ')\n",
    "        elif '-' in u:\n",
    "            keep_uniprot_ids += u.split('-')\n",
    "        else:\n",
    "            keep_uniprot_ids.append(u)\n",
    "\n",
    "keep_uniprot_ids = sorted(list(set(keep_uniprot_ids)))\n",
    "keep_uniprot_ids = [u for u in keep_uniprot_ids if 'HUMAN' in u]"
   ]
  },
  {
   "cell_type": "code",
   "execution_count": 8,
   "metadata": {},
   "outputs": [
    {
     "data": {
      "text/plain": [
       "2227"
      ]
     },
     "execution_count": 8,
     "metadata": {},
     "output_type": "execute_result"
    }
   ],
   "source": [
    "len(keep_uniprot_ids)"
   ]
  },
  {
   "cell_type": "code",
   "execution_count": 9,
   "metadata": {},
   "outputs": [],
   "source": [
    "# with open('./data/Binding_data/TTD_bindings_target_ids.txt', 'w') as file:\n",
    "#     for u in keep_uniprot_ids:\n",
    "#         file.write(u + '\\n')"
   ]
  },
  {
   "cell_type": "code",
   "execution_count": 9,
   "metadata": {},
   "outputs": [
    {
     "data": {
      "text/html": [
       "<div>\n",
       "<style scoped>\n",
       "    .dataframe tbody tr th:only-of-type {\n",
       "        vertical-align: middle;\n",
       "    }\n",
       "\n",
       "    .dataframe tbody tr th {\n",
       "        vertical-align: top;\n",
       "    }\n",
       "\n",
       "    .dataframe thead th {\n",
       "        text-align: right;\n",
       "    }\n",
       "</style>\n",
       "<table border=\"1\" class=\"dataframe\">\n",
       "  <thead>\n",
       "    <tr style=\"text-align: right;\">\n",
       "      <th></th>\n",
       "      <th>From</th>\n",
       "      <th>Entry</th>\n",
       "      <th>Reviewed</th>\n",
       "      <th>Entry Name</th>\n",
       "      <th>Protein names</th>\n",
       "      <th>Gene Names</th>\n",
       "      <th>Organism</th>\n",
       "      <th>Length</th>\n",
       "    </tr>\n",
       "  </thead>\n",
       "  <tbody>\n",
       "    <tr>\n",
       "      <th>0</th>\n",
       "      <td>CXE1_HUMAN</td>\n",
       "      <td>A6NN92</td>\n",
       "      <td>reviewed</td>\n",
       "      <td>CXE1_HUMAN</td>\n",
       "      <td>Putative gap junction epsilon-1 protein (Conne...</td>\n",
       "      <td>GJE1</td>\n",
       "      <td>Homo sapiens (Human)</td>\n",
       "      <td>205</td>\n",
       "    </tr>\n",
       "    <tr>\n",
       "      <th>1</th>\n",
       "      <td>GBRR3_HUMAN</td>\n",
       "      <td>A8MPY1</td>\n",
       "      <td>reviewed</td>\n",
       "      <td>GBRR3_HUMAN</td>\n",
       "      <td>Gamma-aminobutyric acid receptor subunit rho-3...</td>\n",
       "      <td>GABRR3</td>\n",
       "      <td>Homo sapiens (Human)</td>\n",
       "      <td>467</td>\n",
       "    </tr>\n",
       "  </tbody>\n",
       "</table>\n",
       "</div>"
      ],
      "text/plain": [
       "          From   Entry  Reviewed   Entry Name  \\\n",
       "0   CXE1_HUMAN  A6NN92  reviewed   CXE1_HUMAN   \n",
       "1  GBRR3_HUMAN  A8MPY1  reviewed  GBRR3_HUMAN   \n",
       "\n",
       "                                       Protein names Gene Names  \\\n",
       "0  Putative gap junction epsilon-1 protein (Conne...       GJE1   \n",
       "1  Gamma-aminobutyric acid receptor subunit rho-3...     GABRR3   \n",
       "\n",
       "               Organism  Length  \n",
       "0  Homo sapiens (Human)     205  \n",
       "1  Homo sapiens (Human)     467  "
      ]
     },
     "execution_count": 9,
     "metadata": {},
     "output_type": "execute_result"
    }
   ],
   "source": [
    "# id mapping\n",
    "mapping_df = pd.read_csv('./data/tmp/TTD_bindings_target_mapping.tsv', sep='\\t')\n",
    "mapping_df.head(2)"
   ]
  },
  {
   "cell_type": "code",
   "execution_count": 10,
   "metadata": {},
   "outputs": [],
   "source": [
    "mapping_dict = {k: v for k, v in zip(mapping_df.From.tolist(), mapping_df.Entry.tolist())}\n",
    "\n",
    "def mapping_func(item):\n",
    "    item = str(item)\n",
    "    if '; ' in item:\n",
    "        res = [mapping_dict[i] for i in item.split('; ') if i in mapping_dict]\n",
    "        res = '|'.join(res) if len(res) > 0 else None\n",
    "    elif '-' in item:\n",
    "        res = [mapping_dict[i] for i in item.split('-') if i in mapping_dict]\n",
    "        res = '|'.join(res) if len(res) > 0 else None\n",
    "    else:\n",
    "        res = mapping_dict[item] if item in mapping_dict else None\n",
    "    return res\n",
    "\n",
    "interaction_df['uniprot_id'] = interaction_df['uniprot_id'].apply(mapping_func)"
   ]
  },
  {
   "cell_type": "code",
   "execution_count": 11,
   "metadata": {},
   "outputs": [
    {
     "name": "stdout",
     "output_type": "stream",
     "text": [
      "(34656, 20)\n"
     ]
    }
   ],
   "source": [
    "sm_interaction_df = interaction_df[interaction_df.drug_type == 'Small molecular drug']\n",
    "print(sm_interaction_df.shape)"
   ]
  },
  {
   "cell_type": "code",
   "execution_count": 12,
   "metadata": {},
   "outputs": [
    {
     "data": {
      "text/html": [
       "<div>\n",
       "<style scoped>\n",
       "    .dataframe tbody tr th:only-of-type {\n",
       "        vertical-align: middle;\n",
       "    }\n",
       "\n",
       "    .dataframe tbody tr th {\n",
       "        vertical-align: top;\n",
       "    }\n",
       "\n",
       "    .dataframe thead th {\n",
       "        text-align: right;\n",
       "    }\n",
       "</style>\n",
       "<table border=\"1\" class=\"dataframe\">\n",
       "  <thead>\n",
       "    <tr style=\"text-align: right;\">\n",
       "      <th></th>\n",
       "      <th>target_id</th>\n",
       "      <th>drug_id</th>\n",
       "      <th>Highest_status</th>\n",
       "      <th>MOA</th>\n",
       "      <th>uniprot_id</th>\n",
       "      <th>target_name</th>\n",
       "      <th>gene_name</th>\n",
       "      <th>target_type</th>\n",
       "      <th>PDB_id</th>\n",
       "      <th>biochemical_class</th>\n",
       "      <th>sequence</th>\n",
       "      <th>drug_info</th>\n",
       "      <th>therap_class</th>\n",
       "      <th>drug_type</th>\n",
       "      <th>InchI</th>\n",
       "      <th>InchIKey</th>\n",
       "      <th>smiles</th>\n",
       "      <th>status</th>\n",
       "      <th>drug_class</th>\n",
       "      <th>compound_class</th>\n",
       "    </tr>\n",
       "  </thead>\n",
       "  <tbody>\n",
       "    <tr>\n",
       "      <th>0</th>\n",
       "      <td>T71390</td>\n",
       "      <td>D07OAC</td>\n",
       "      <td>Investigative</td>\n",
       "      <td>Inhibitor</td>\n",
       "      <td>P31213</td>\n",
       "      <td>Steroid 5-alpha-reductase 2 (SRD5A2)</td>\n",
       "      <td>SRD5A2</td>\n",
       "      <td>Successful target</td>\n",
       "      <td>NaN</td>\n",
       "      <td>CH-CH donor oxidoreductase</td>\n",
       "      <td>MQVQCQQSPVLAGSATLVALGALALYVAKPSGYGKHTESLKPAATR...</td>\n",
       "      <td>[['D08IWD' 'Finasteride' 'Approved']\\n ['D07BH...</td>\n",
       "      <td>NaN</td>\n",
       "      <td>Small molecular drug</td>\n",
       "      <td>1S/C10H13BrN6O3/c11-7-4-8(13)14-2-15-9(4)17(16...</td>\n",
       "      <td>LTTBFVDMHCIDPM-BHBWVORQSA-N</td>\n",
       "      <td>C1=NC(=C2C(=N1)N(N=C2Br)C3C(C(C(O3)CN)O)O)N</td>\n",
       "      <td>Investigative</td>\n",
       "      <td>Investigative Drug(s)</td>\n",
       "      <td>NaN</td>\n",
       "    </tr>\n",
       "    <tr>\n",
       "      <th>1</th>\n",
       "      <td>T70309</td>\n",
       "      <td>D07OAC</td>\n",
       "      <td>Investigative</td>\n",
       "      <td>Inhibitor</td>\n",
       "      <td>P18405</td>\n",
       "      <td>Steroid 5-alpha-reductase 1 (SRD5A1)</td>\n",
       "      <td>SRD5A1</td>\n",
       "      <td>Clinical trial target</td>\n",
       "      <td>NaN</td>\n",
       "      <td>CH-CH donor oxidoreductase</td>\n",
       "      <td>MATATGVAEERLLAALAYLQCAVGCAVFARNRQTNSVYGRHALPSH...</td>\n",
       "      <td>[['D01CJY' 'FR-146687' 'Phase 2']\\n ['D0C1SI' ...</td>\n",
       "      <td>NaN</td>\n",
       "      <td>Small molecular drug</td>\n",
       "      <td>1S/C10H13BrN6O3/c11-7-4-8(13)14-2-15-9(4)17(16...</td>\n",
       "      <td>LTTBFVDMHCIDPM-BHBWVORQSA-N</td>\n",
       "      <td>C1=NC(=C2C(=N1)N(N=C2Br)C3C(C(C(O3)CN)O)O)N</td>\n",
       "      <td>Investigative</td>\n",
       "      <td>Investigative Drug(s)</td>\n",
       "      <td>NaN</td>\n",
       "    </tr>\n",
       "    <tr>\n",
       "      <th>2</th>\n",
       "      <td>T97071</td>\n",
       "      <td>D0Y6UB</td>\n",
       "      <td>Investigative</td>\n",
       "      <td>Inhibitor</td>\n",
       "      <td>Q04609</td>\n",
       "      <td>Glutamate carboxypeptidase II (GCPII)</td>\n",
       "      <td>FOLH1</td>\n",
       "      <td>Successful target</td>\n",
       "      <td>6HKZ; 6HKJ; 6H7Z; 6H7Y; 6FE5</td>\n",
       "      <td>Peptidase</td>\n",
       "      <td>MWNLLHETDSAVATARRPRWLCAGALVLAGGFFLLGFLFGWFIKSS...</td>\n",
       "      <td>[['D09PGL' 'Capromab' 'Approved']\\n ['DBG46D' ...</td>\n",
       "      <td>NaN</td>\n",
       "      <td>Small molecular drug</td>\n",
       "      <td>1S/C6H11O7P/c7-5(8)2-1-4(6(9)10)3-14(11,12)13/...</td>\n",
       "      <td>ISEYJGQFXSTPMQ-UHFFFAOYSA-N</td>\n",
       "      <td>C(CC(=O)O)C(CP(=O)(O)O)C(=O)O</td>\n",
       "      <td>Investigative</td>\n",
       "      <td>Investigative Drug(s)</td>\n",
       "      <td>NaN</td>\n",
       "    </tr>\n",
       "  </tbody>\n",
       "</table>\n",
       "</div>"
      ],
      "text/plain": [
       "  target_id drug_id Highest_status        MOA uniprot_id  \\\n",
       "0    T71390  D07OAC  Investigative  Inhibitor     P31213   \n",
       "1    T70309  D07OAC  Investigative  Inhibitor     P18405   \n",
       "2    T97071  D0Y6UB  Investigative  Inhibitor     Q04609   \n",
       "\n",
       "                             target_name gene_name            target_type  \\\n",
       "0   Steroid 5-alpha-reductase 2 (SRD5A2)    SRD5A2      Successful target   \n",
       "1   Steroid 5-alpha-reductase 1 (SRD5A1)    SRD5A1  Clinical trial target   \n",
       "2  Glutamate carboxypeptidase II (GCPII)     FOLH1      Successful target   \n",
       "\n",
       "                         PDB_id           biochemical_class  \\\n",
       "0                           NaN  CH-CH donor oxidoreductase   \n",
       "1                           NaN  CH-CH donor oxidoreductase   \n",
       "2  6HKZ; 6HKJ; 6H7Z; 6H7Y; 6FE5                   Peptidase   \n",
       "\n",
       "                                            sequence  \\\n",
       "0  MQVQCQQSPVLAGSATLVALGALALYVAKPSGYGKHTESLKPAATR...   \n",
       "1  MATATGVAEERLLAALAYLQCAVGCAVFARNRQTNSVYGRHALPSH...   \n",
       "2  MWNLLHETDSAVATARRPRWLCAGALVLAGGFFLLGFLFGWFIKSS...   \n",
       "\n",
       "                                           drug_info therap_class  \\\n",
       "0  [['D08IWD' 'Finasteride' 'Approved']\\n ['D07BH...          NaN   \n",
       "1  [['D01CJY' 'FR-146687' 'Phase 2']\\n ['D0C1SI' ...          NaN   \n",
       "2  [['D09PGL' 'Capromab' 'Approved']\\n ['DBG46D' ...          NaN   \n",
       "\n",
       "              drug_type                                              InchI  \\\n",
       "0  Small molecular drug  1S/C10H13BrN6O3/c11-7-4-8(13)14-2-15-9(4)17(16...   \n",
       "1  Small molecular drug  1S/C10H13BrN6O3/c11-7-4-8(13)14-2-15-9(4)17(16...   \n",
       "2  Small molecular drug  1S/C6H11O7P/c7-5(8)2-1-4(6(9)10)3-14(11,12)13/...   \n",
       "\n",
       "                      InchIKey                                       smiles  \\\n",
       "0  LTTBFVDMHCIDPM-BHBWVORQSA-N  C1=NC(=C2C(=N1)N(N=C2Br)C3C(C(C(O3)CN)O)O)N   \n",
       "1  LTTBFVDMHCIDPM-BHBWVORQSA-N  C1=NC(=C2C(=N1)N(N=C2Br)C3C(C(C(O3)CN)O)O)N   \n",
       "2  ISEYJGQFXSTPMQ-UHFFFAOYSA-N                C(CC(=O)O)C(CP(=O)(O)O)C(=O)O   \n",
       "\n",
       "          status             drug_class compound_class  \n",
       "0  Investigative  Investigative Drug(s)            NaN  \n",
       "1  Investigative  Investigative Drug(s)            NaN  \n",
       "2  Investigative  Investigative Drug(s)            NaN  "
      ]
     },
     "execution_count": 12,
     "metadata": {},
     "output_type": "execute_result"
    }
   ],
   "source": [
    "sm_interaction_df.head(3)"
   ]
  },
  {
   "cell_type": "code",
   "execution_count": 13,
   "metadata": {},
   "outputs": [
    {
     "name": "stderr",
     "output_type": "stream",
     "text": [
      "[16:11:10] Explicit valence for atom # 7 Cl, 5, is greater than permitted\n",
      "[16:11:20] WARNING: not removing hydrogen atom without neighbors\n",
      "[16:11:20] WARNING: not removing hydrogen atom without neighbors\n",
      "[16:11:21] WARNING: not removing hydrogen atom without neighbors\n",
      "[16:11:21] WARNING: not removing hydrogen atom without neighbors\n",
      "[16:11:21] WARNING: not removing hydrogen atom without neighbors\n",
      "e:\\Miniconda3\\envs\\my-torch\\lib\\site-packages\\ipykernel_launcher.py:10: SettingWithCopyWarning: \n",
      "A value is trying to be set on a copy of a slice from a DataFrame.\n",
      "Try using .loc[row_indexer,col_indexer] = value instead\n",
      "\n",
      "See the caveats in the documentation: https://pandas.pydata.org/pandas-docs/stable/user_guide/indexing.html#returning-a-view-versus-a-copy\n",
      "  # Remove the CWD from sys.path while we load stuff.\n"
     ]
    }
   ],
   "source": [
    "from utils import canonic_smiles\n",
    "\n",
    "def canonic_smiles_func(smi):\n",
    "    try:\n",
    "        ca_smi = canonic_smiles(smi)\n",
    "        return ca_smi\n",
    "    except:\n",
    "        return None\n",
    "    \n",
    "sm_interaction_df['smiles'] = sm_interaction_df['smiles'].apply(canonic_smiles_func)"
   ]
  },
  {
   "cell_type": "code",
   "execution_count": 14,
   "metadata": {},
   "outputs": [
    {
     "data": {
      "text/plain": [
       "(26901, 20)"
      ]
     },
     "execution_count": 14,
     "metadata": {},
     "output_type": "execute_result"
    }
   ],
   "source": [
    "sm_interaction_df2 = sm_interaction_df.dropna(subset=['uniprot_id', 'smiles', 'status']).drop_duplicates(\n",
    "    subset=['uniprot_id', 'smiles', 'status'], keep='first')\n",
    "sm_interaction_df2.shape"
   ]
  },
  {
   "cell_type": "code",
   "execution_count": 15,
   "metadata": {},
   "outputs": [],
   "source": [
    "sm_interaction_df2.to_csv('./data/Binding_data/TTD_small_molecules_pairs_data_with_details.csv', index=False)"
   ]
  },
  {
   "cell_type": "code",
   "execution_count": 14,
   "metadata": {},
   "outputs": [
    {
     "data": {
      "text/plain": [
       "(26901, 3)"
      ]
     },
     "execution_count": 14,
     "metadata": {},
     "output_type": "execute_result"
    }
   ],
   "source": [
    "sm_interaction_df = sm_interaction_df[['uniprot_id', 'smiles', 'status']].dropna()\n",
    "sm_interaction_df = sm_interaction_df.drop_duplicates()\n",
    "sm_interaction_df.shape"
   ]
  },
  {
   "cell_type": "code",
   "execution_count": 15,
   "metadata": {},
   "outputs": [
    {
     "data": {
      "text/plain": [
       "17703"
      ]
     },
     "execution_count": 15,
     "metadata": {},
     "output_type": "execute_result"
    }
   ],
   "source": [
    "len(set(sm_interaction_df.smiles.tolist()))"
   ]
  },
  {
   "cell_type": "code",
   "execution_count": 16,
   "metadata": {},
   "outputs": [
    {
     "data": {
      "text/plain": [
       "Investigative                      19104\n",
       "Patented                            2423\n",
       "Approved                            1553\n",
       "Phase 2                              839\n",
       "Terminated                           728\n",
       "Discontinued in Phase 2              494\n",
       "Phase 1                              431\n",
       "Phase 3                              414\n",
       "Discontinued in Phase 1              217\n",
       "Preclinical                          213\n",
       "Discontinued in Phase 3              136\n",
       "Phase 1/2                            114\n",
       "Phase 2/3                             53\n",
       "Withdrawn from market                 49\n",
       "Phase 4                               44\n",
       "Clinical trial                        41\n",
       "Discontinued in Preregistration       14\n",
       "Phase 2a                               5\n",
       "approved                               5\n",
       "Discontinued in Phase 1/2              5\n",
       "Preregistration                        5\n",
       "Approved (orphan drug)                 4\n",
       "Registered                             3\n",
       "Discontinued in Phase 4                2\n",
       "Discontinued in Phase 2b               1\n",
       "Discontinued in Phase 2a               1\n",
       "Phase 1b                               1\n",
       "Phase 2b                               1\n",
       "Approval submitted                     1\n",
       "Name: status, dtype: int64"
      ]
     },
     "execution_count": 16,
     "metadata": {},
     "output_type": "execute_result"
    }
   ],
   "source": [
    "sm_interaction_df['status'].value_counts()"
   ]
  },
  {
   "cell_type": "code",
   "execution_count": 17,
   "metadata": {},
   "outputs": [],
   "source": [
    "sm_interaction_df.to_csv('./data/Binding_data/TTD_small_molecules_pairs_data.csv', index=False)"
   ]
  },
  {
   "cell_type": "code",
   "execution_count": 18,
   "metadata": {},
   "outputs": [],
   "source": [
    "partition_classes = ['Application submitted', 'Approval submitted', 'Approved', 'Approved (orphan drug)', \n",
    "                     'BLA submitted', 'NDA filed', 'Discontinued in Phase 4', 'Phase 4', \n",
    "                     'Withdrawn from market','approved']\n",
    "# non_partition_classes = ['Discontinue in Phase 1 Trial', 'Discontinued in Phase 1', 'Discontinued in Phase 1/2',\n",
    "#                          'Discontinued in Phase 2', 'Discontinued in Phase 2/3', 'Discontinued in Phase 2a',\n",
    "#                          'Discontinued in Phase 2b', 'Discontinued in Preregistration']\n",
    "non_partition_classes = ['Discontinued in Phase 1/2', 'Discontinued in Phase 2', 'Discontinued in Phase 2/3', \n",
    "                         'Discontinued in Phase 2a', 'Discontinued in Phase 2b']\n",
    "unknown_classes = ['Investigative', 'Patented']\n",
    "failed_classes = ['Discontinue in Phase 1 Trial', 'Discontinued in Phase 1', 'Discontinued in Phase 1/2',\n",
    "                'Discontinued in Phase 2', 'Discontinued in Phase 2/3', 'Discontinued in Phase 2a',\n",
    "                'Discontinued in Phase 2b', 'Discontinued in Preregistration', 'Terminated', 'Discontinued in Phase 3']"
   ]
  },
  {
   "attachments": {},
   "cell_type": "markdown",
   "metadata": {},
   "source": [
    "## Load PS information"
   ]
  },
  {
   "cell_type": "code",
   "execution_count": 19,
   "metadata": {},
   "outputs": [
    {
     "data": {
      "text/plain": [
       "(1679, 2860)"
      ]
     },
     "execution_count": 19,
     "metadata": {},
     "output_type": "execute_result"
    }
   ],
   "source": [
    "# with open('./data/PS_Pro/Homo_PS_self.txt', 'r') as file:\n",
    "#     ps_self_pros = file.read().strip().split('\\n')\n",
    "# with open('./data/PS_Pro/Homo_PS_other.txt', 'r') as file:\n",
    "#     ps_other_pros = file.read().strip().split('\\n')\n",
    "# with open('./data/PS_Pro/Homo_condensate_form_lt.txt', 'r') as file:\n",
    "#     conden_form_lt_pros = file.read().strip().split('\\n')\n",
    "# with open('./data/PS_Pro/Homo_condensate_form_all.txt', 'r') as file:\n",
    "#     conden_form_all_pros = file.read().strip().split('\\n')\n",
    "# with open('./data/PS_Pro/Homo_PS_PhaSePred_top5.txt', 'r') as file:\n",
    "#     phasepred_pros = file.read().strip().split('\\n')\n",
    "\n",
    "with open('./data/PS_Pro/Homo_whole_PS_top5.txt', 'r') as file:\n",
    "    whole_ps_top5 = file.read().strip().split('\\n')\n",
    "with open('./data/PS_Pro/Homo_whole_PS_top10.txt', 'r') as file:\n",
    "    whole_ps_top10 = file.read().strip().split('\\n')\n",
    "\n",
    "len(whole_ps_top5), len(whole_ps_top10)"
   ]
  },
  {
   "cell_type": "code",
   "execution_count": 20,
   "metadata": {},
   "outputs": [
    {
     "data": {
      "text/plain": [
       "1669"
      ]
     },
     "execution_count": 20,
     "metadata": {},
     "output_type": "execute_result"
    }
   ],
   "source": [
    "# intersection of ps & target\n",
    "all_targets = []\n",
    "for u in sm_interaction_df.uniprot_id.tolist():\n",
    "    if u:\n",
    "        if '|' in u:\n",
    "            all_targets += u.split('|')\n",
    "        else:\n",
    "            all_targets.append(u)\n",
    "\n",
    "all_targets = list(set(all_targets))\n",
    "len(all_targets)"
   ]
  },
  {
   "cell_type": "code",
   "execution_count": 19,
   "metadata": {},
   "outputs": [
    {
     "name": "stdout",
     "output_type": "stream",
     "text": [
      "1679 163\n",
      "1975 179\n",
      "5277 427\n"
     ]
    }
   ],
   "source": [
    "# whole_ps_pros = list(set(ps_self_pros + ps_other_pros + phasepred_pros))\n",
    "# print(len(whole_ps_pros), len(set(whole_ps_pros).intersection(all_targets)))\n",
    "# ps_lt_conden_pros = list(set(whole_ps_pros + conden_form_lt_pros))\n",
    "# print(len(ps_lt_conden_pros), len(set(ps_lt_conden_pros).intersection(all_targets)))\n",
    "# ps_all_conden_pros = list(set(whole_ps_pros + conden_form_all_pros))\n",
    "# print(len(ps_all_conden_pros), len(set(ps_all_conden_pros).intersection(all_targets)))"
   ]
  },
  {
   "cell_type": "code",
   "execution_count": 18,
   "metadata": {},
   "outputs": [],
   "source": [
    "# # status analysis\n",
    "# whole_ps_status, non_ps_status = [], []\n",
    "# ps_lt_conden_status, non_ps_lt_conden_status = [], []\n",
    "# ps_all_conden_status, non_ps_all_conden_status = [], []\n",
    "\n",
    "# for status, u in zip(interaction_df['Highest_status'].tolist(), interaction_df['uniprot_id'].tolist()):\n",
    "#     if u:\n",
    "#         if '|' in u:\n",
    "#             tmp = u.split('|')\n",
    "#             if len(set(tmp).intersection(whole_ps_pros)) > 0:\n",
    "#                 whole_ps_status.append(status)\n",
    "#             else:\n",
    "#                 non_ps_status.append(status)\n",
    "#             if len(set(tmp).intersection(ps_lt_conden_pros)) > 0:\n",
    "#                 ps_lt_conden_status.append(status)\n",
    "#             else:\n",
    "#                 non_ps_lt_conden_status.append(status)\n",
    "#             if len(set(tmp).intersection(ps_all_conden_pros)) > 0:\n",
    "#                 ps_all_conden_status.append(status)\n",
    "#             else:\n",
    "#                 non_ps_all_conden_status.append(status)\n",
    "#         else:\n",
    "#             if u in whole_ps_pros:\n",
    "#                 whole_ps_status.append(status)\n",
    "#             else:\n",
    "#                 non_ps_status.append(status)\n",
    "#             if u in ps_lt_conden_pros:\n",
    "#                 ps_lt_conden_status.append(status)\n",
    "#             else:\n",
    "#                 non_ps_lt_conden_status.append(status)\n",
    "#             if u in ps_all_conden_pros:\n",
    "#                 ps_all_conden_status.append(status)\n",
    "#             else:\n",
    "#                 non_ps_all_conden_status.append(status)"
   ]
  },
  {
   "cell_type": "code",
   "execution_count": 21,
   "metadata": {},
   "outputs": [
    {
     "name": "stdout",
     "output_type": "stream",
     "text": [
      "2228 16016\n",
      "3081 15516\n"
     ]
    }
   ],
   "source": [
    "# top 5\n",
    "ps_drugs, nps_drugs = [], []\n",
    "for uni, smi in sm_interaction_df.iloc[:, :2].values:\n",
    "    if uni in whole_ps_top5:\n",
    "        ps_drugs.append(smi)\n",
    "    elif len(set(uni.split('|')).intersection(whole_ps_top5)) > 0:\n",
    "        ps_drugs.append(smi)\n",
    "    else:\n",
    "        nps_drugs.append(smi)\n",
    "\n",
    "ps_drugs = list(set(ps_drugs))\n",
    "nps_drugs = list(set(nps_drugs))\n",
    "print(len(ps_drugs), len(nps_drugs))\n",
    "\n",
    "\n",
    "# top 10\n",
    "ps_drugs2, nps_drugs2 = [], []\n",
    "for uni, smi in sm_interaction_df.iloc[:, :2].values:\n",
    "    if uni in whole_ps_top10:\n",
    "        ps_drugs2.append(smi)\n",
    "    elif len(set(uni.split('|')).intersection(whole_ps_top10)) > 0:\n",
    "        ps_drugs2.append(smi)\n",
    "    else:\n",
    "        nps_drugs2.append(smi)\n",
    "\n",
    "ps_drugs2 = list(set(ps_drugs2))\n",
    "nps_drugs2 = list(set(nps_drugs2))\n",
    "print(len(ps_drugs2), len(nps_drugs2))"
   ]
  },
  {
   "cell_type": "code",
   "execution_count": 22,
   "metadata": {},
   "outputs": [
    {
     "name": "stdout",
     "output_type": "stream",
     "text": [
      "541\n",
      "894\n"
     ]
    }
   ],
   "source": [
    "# overlap of ps & nps\n",
    "print(len(set(ps_drugs).intersection(nps_drugs)))\n",
    "print(len(set(ps_drugs2).intersection(nps_drugs2)))"
   ]
  },
  {
   "cell_type": "code",
   "execution_count": 23,
   "metadata": {},
   "outputs": [],
   "source": [
    "with open('./data/Binding_data/TTD_ps_nps_smiles_top5.pkl', 'wb') as file:\n",
    "    pkl.dump((ps_drugs, nps_drugs), file)\n",
    "\n",
    "with open('./data/Binding_data/TTD_ps_nps_smiles_top10.pkl', 'wb') as file:\n",
    "    pkl.dump((ps_drugs2, nps_drugs2), file)"
   ]
  },
  {
   "cell_type": "code",
   "execution_count": 23,
   "metadata": {},
   "outputs": [],
   "source": [
    "# ps_statuses, nps_statuses = [], []\n",
    "# for uni, _, status in sm_interaction_df.values:\n",
    "#     if uni in whole_ps_top5:\n",
    "#         ps_statuses.append(status)\n",
    "#     elif len(set(uni.split('|')).intersection(whole_ps_top5)) > 0:\n",
    "#         ps_statuses.append(status)\n",
    "#     else:\n",
    "#         nps_statuses.append(status)\n",
    "\n",
    "# with open('./data/Binding_data/TTD_ps_nps_clinical_status.pkl', 'wb') as file:\n",
    "#     pkl.dump((ps_statuses, nps_statuses), file)"
   ]
  },
  {
   "cell_type": "code",
   "execution_count": 29,
   "metadata": {},
   "outputs": [],
   "source": [
    "from collections import defaultdict\n",
    "# for whole_ps_pros\n",
    "partition_drugs, non_partition_drugs = set(), set()\n",
    "unknown_drugs, failed_drugs = set(), set()\n",
    "partition_mappings, non_partition_mappings = defaultdict(set), defaultdict(set)\n",
    "unknown_mappings, failed_mappings = defaultdict(set), defaultdict(set)\n",
    "## for whole_non_ps_pros\n",
    "nps_partition_drugs, nps_non_partition_drugs = set(), set()\n",
    "nps_unknown_drugs, nps_failed_drugs = set(), set()\n",
    "nps_partition_mappings, nps_non_partition_mappings = defaultdict(set), defaultdict(set)\n",
    "nps_unknown_mappings, nps_failed_mappings = defaultdict(set), defaultdict(set)\n",
    "\n",
    "# top 5\n",
    "# whole_ps_pros = whole_ps_top5\n",
    "# for top 10\n",
    "whole_ps_pros = whole_ps_top10\n",
    "\n",
    "for status, uni, smi in zip(\n",
    "    sm_interaction_df.status.tolist(), sm_interaction_df.uniprot_id.tolist(), \n",
    "    sm_interaction_df.smiles.tolist()):\n",
    "    if type(smi) == str and uni != '':\n",
    "        if status in partition_classes:\n",
    "            if '|' not in uni and uni in whole_ps_pros:\n",
    "                partition_drugs.update([smi])\n",
    "                partition_mappings[uni].update([smi])\n",
    "            elif '|' in uni and len(set(uni.split('|')).intersection(whole_ps_pros)) > 0:\n",
    "                partition_drugs.update([smi])\n",
    "                for u in set(uni.split('|')).intersection(whole_ps_pros):\n",
    "                    partition_mappings[u].update([smi])\n",
    "            else:\n",
    "                nps_partition_drugs.update([smi])\n",
    "                for u in uni.split('|'):\n",
    "                    nps_partition_mappings[u].update([smi])\n",
    "\n",
    "\n",
    "        if status in non_partition_classes:\n",
    "            if '|' not in uni and uni in whole_ps_pros:\n",
    "                non_partition_drugs.update([smi])\n",
    "                non_partition_mappings[uni].update([smi])\n",
    "            elif '|' in uni and len(set(uni.split('|')).intersection(whole_ps_pros)) > 0:\n",
    "                non_partition_drugs.update([smi])\n",
    "                for u in set(uni.split('|')).intersection(whole_ps_pros):\n",
    "                    non_partition_mappings[u].update([smi])\n",
    "            else:\n",
    "                nps_non_partition_drugs.update([smi])\n",
    "                for u in uni.split('|'):\n",
    "                    nps_non_partition_mappings[u].update([smi])\n",
    "        \n",
    "        if status in failed_classes:\n",
    "            if '|' not in uni and uni in whole_ps_pros:\n",
    "                failed_drugs.update([smi])\n",
    "                failed_mappings[uni].update([smi])\n",
    "            elif '|' in uni and len(set(uni.split('|')).intersection(whole_ps_pros)) > 0:\n",
    "                failed_drugs.update([smi])\n",
    "                for u in set(uni.split('|')).intersection(whole_ps_pros):\n",
    "                    failed_mappings[u].update([smi])\n",
    "            else:\n",
    "                nps_failed_drugs.update([smi])\n",
    "                for u in uni.split('|'):\n",
    "                    nps_failed_mappings[u].update([smi])\n",
    "\n",
    "        if status in unknown_classes:\n",
    "            if '|' not in uni and uni in whole_ps_pros:\n",
    "                unknown_drugs.update([smi])\n",
    "                unknown_mappings[uni].update([smi])\n",
    "            elif '|' in uni and len(set(uni.split('|')).intersection(whole_ps_pros)) > 0:\n",
    "                unknown_drugs.update([smi])\n",
    "                for u in set(uni.split('|')).intersection(whole_ps_pros):\n",
    "                    unknown_mappings[u].update([smi])\n",
    "            else:\n",
    "                nps_unknown_drugs.update([smi])\n",
    "                for u in uni.split('|'):\n",
    "                    nps_unknown_mappings[u].update([smi])"
   ]
  },
  {
   "cell_type": "code",
   "execution_count": 23,
   "metadata": {},
   "outputs": [],
   "source": [
    "# # remove duplicates\n",
    "# # for whole_ps_pros\n",
    "# partition_drugs, non_partition_drugs = list(set(partition_drugs)), list(set(non_partition_drugs))\n",
    "# partition_mappings = {k: list(set(v)) for k, v in partition_mappings.items()}\n",
    "# non_partition_mappings = {k: list(set(v)) for k, v in non_partition_mappings.items()}\n",
    "# # for all_condensate_form_pros\n",
    "# partition_drugs2, non_partition_drugs2 = list(set(partition_drugs2)), list(set(non_partition_drugs2))\n",
    "# partition_mappings2 = {k: list(set(v)) for k, v in partition_mappings2.items()}\n",
    "# non_partition_mappings2 = {k: list(set(v)) for k, v in non_partition_mappings2.items()}"
   ]
  },
  {
   "cell_type": "code",
   "execution_count": 30,
   "metadata": {},
   "outputs": [
    {
     "data": {
      "text/plain": [
       "(209, 41, 2368, 128)"
      ]
     },
     "execution_count": 30,
     "metadata": {},
     "output_type": "execute_result"
    }
   ],
   "source": [
    "# top 5\n",
    "len(partition_drugs), len(non_partition_drugs), len(unknown_drugs), len(failed_drugs)  # 176, 26, 1675, 86\n",
    "\n",
    "# top 10\n",
    "# 209, 41, 2368, 128"
   ]
  },
  {
   "cell_type": "code",
   "execution_count": 31,
   "metadata": {},
   "outputs": [
    {
     "data": {
      "text/plain": [
       "(1190, 366, 12095, 1098)"
      ]
     },
     "execution_count": 31,
     "metadata": {},
     "output_type": "execute_result"
    }
   ],
   "source": [
    "# top 5\n",
    "len(nps_partition_drugs), len(nps_non_partition_drugs), len(nps_unknown_drugs), len(nps_failed_drugs)  # 1215, 373, 12506, 1112\n",
    "\n",
    "# top 10\n",
    "# 1190, 366, 12095, 1098"
   ]
  },
  {
   "cell_type": "code",
   "execution_count": 32,
   "metadata": {},
   "outputs": [
    {
     "data": {
      "text/plain": [
       "(56, 414)"
      ]
     },
     "execution_count": 32,
     "metadata": {},
     "output_type": "execute_result"
    }
   ],
   "source": [
    "# top 5\n",
    "len(partition_mappings), len(nps_partition_mappings)  # 38, 431\n",
    "\n",
    "# top 10\n",
    "# 56, 414"
   ]
  },
  {
   "cell_type": "code",
   "execution_count": 33,
   "metadata": {},
   "outputs": [],
   "source": [
    "# for whole_ps\n",
    "whole_ps_data = {\n",
    "    'ps': {\n",
    "        'partition': (partition_drugs, partition_mappings),\n",
    "        'non-partition': (non_partition_drugs, non_partition_mappings),\n",
    "        'failed': (failed_drugs, failed_mappings),\n",
    "        'unknown': (unknown_drugs, unknown_mappings)\n",
    "    },\n",
    "    'nps': {\n",
    "        'partition': (nps_partition_drugs, nps_partition_mappings),\n",
    "        'non-partition': (nps_non_partition_drugs, nps_non_partition_mappings),\n",
    "        'failed': (nps_failed_drugs, nps_failed_mappings),\n",
    "        'unknown': (nps_unknown_drugs, nps_unknown_mappings)\n",
    "    }\n",
    "}\n",
    "\n",
    "# whole_conden_data = {\n",
    "#     'conden': {\n",
    "#         'partition': (partition_drugs_cond, partition_mappings_cond),\n",
    "#         'non-partition': (non_partition_drugs_cond, non_partition_mappings_cond),\n",
    "#         'failed': (failed_drugs_cond, failed_mappings_cond),\n",
    "#         'unknown': (unknown_drugs_cond, unknown_mappings_cond)\n",
    "#     },\n",
    "#     'non-conden': {\n",
    "#         'partition': (ncf_partition_drugs_cond, ncf_partition_mappings_cond),\n",
    "#         'non-partition': (ncf_partition_drugs_cond, ncf_non_partition_mappings_cond),\n",
    "#         'failed': (ncf_failed_drugs_cond, ncf_failed_mappings_cond),\n",
    "#         'unknown': (ncf_unknown_drugs_cond, ncf_unknown_mappings_cond)\n",
    "#     }\n",
    "# }\n",
    "with open('./data/Binding_data/TTD_whole_ps_nps_data_top5.pkl', 'wb') as file:\n",
    "    pkl.dump(whole_ps_data, file)"
   ]
  },
  {
   "cell_type": "code",
   "execution_count": null,
   "metadata": {},
   "outputs": [],
   "source": []
  }
 ],
 "metadata": {
  "kernelspec": {
   "display_name": "my-torch",
   "language": "python",
   "name": "python3"
  },
  "language_info": {
   "codemirror_mode": {
    "name": "ipython",
    "version": 3
   },
   "file_extension": ".py",
   "mimetype": "text/x-python",
   "name": "python",
   "nbconvert_exporter": "python",
   "pygments_lexer": "ipython3",
   "version": "3.7.1 (default, Oct 28 2018, 08:39:03) [MSC v.1912 64 bit (AMD64)]"
  },
  "orig_nbformat": 4,
  "vscode": {
   "interpreter": {
    "hash": "c0974cc73794542dbe9421a19f618ed739ff4a121da27e795afd72ba6ef7b90a"
   }
  }
 },
 "nbformat": 4,
 "nbformat_minor": 2
}
