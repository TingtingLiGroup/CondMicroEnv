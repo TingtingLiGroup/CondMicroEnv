{
 "cells": [
  {
   "cell_type": "code",
   "execution_count": 1,
   "metadata": {},
   "outputs": [],
   "source": [
    "# This jupyter notebook is borrowed from https://github.com/dhimmel/drugbank\n",
    "import os, sys\n",
    "import numpy as np\n",
    "import pandas as pd\n",
    "import xml.etree.ElementTree as ET\n",
    "import pickle as pkl\n",
    "import collections\n",
    "import re"
   ]
  },
  {
   "attachments": {},
   "cell_type": "markdown",
   "metadata": {},
   "source": [
    "## Load DrugBank data\n",
    "### Parse XML file"
   ]
  },
  {
   "cell_type": "code",
   "execution_count": 2,
   "metadata": {},
   "outputs": [],
   "source": [
    "tree = ET.parse('/home/oyj/data/DrugTarget/DrugBank/full database.xml')\n",
    "root  = tree.getroot()"
   ]
  },
  {
   "attachments": {},
   "cell_type": "markdown",
   "metadata": {},
   "source": [
    "#### Drug information"
   ]
  },
  {
   "cell_type": "code",
   "execution_count": 3,
   "metadata": {},
   "outputs": [],
   "source": [
    "ns = '{http://www.drugbank.ca}'\n",
    "inchikey_template = \"{ns}calculated-properties/{ns}property[{ns}kind='InChIKey']/{ns}value\"\n",
    "inchi_template = \"{ns}calculated-properties/{ns}property[{ns}kind='InChI']/{ns}value\"\n",
    "smiles_template = \"{ns}calculated-properties/{ns}property[{ns}kind='SMILES']/{ns}value\"\n",
    "\n",
    "rows = list()\n",
    "for i, drug in enumerate(root):\n",
    "    row = collections.OrderedDict()\n",
    "    assert drug.tag == ns + 'drug'\n",
    "    # drug info\n",
    "    row['type'] = drug.get('type')  # Type\n",
    "    row['drugbank_id'] = drug.findtext(ns + \"drugbank-id[@primary='true']\")  # ID\n",
    "    row['name'] = drug.findtext(ns + \"name\")  # Generic Name\n",
    "    # row['description'] = drug.findtext(ns + \"description\")  # Background\n",
    "    row['groups'] = [group.text for group in drug.findall(\"{ns}groups/{ns}group\".format(ns = ns))]  # Group: Clinical status\n",
    "    row['atc_codes'] = [code.get('code') for code in\n",
    "        drug.findall(\"{ns}atc-codes/{ns}atc-code\".format(ns = ns))]  # ATC Codes\n",
    "    row['categories'] = [x.findtext(ns + 'category') for x in\n",
    "        drug.findall(\"{ns}categories/{ns}category\".format(ns = ns))]  # Drug Categories\n",
    "    row['inchi'] = drug.findtext(inchi_template.format(ns = ns))\n",
    "    row['inchikey'] = drug.findtext(inchikey_template.format(ns = ns))\n",
    "    row['smiles'] = drug.findtext(smiles_template.format(ns = ns))\n",
    "    \n",
    "    # Add drug aliases\n",
    "    aliases = {\n",
    "        elem.text for elem in \n",
    "        drug.findall(\"{ns}international-brands/{ns}international-brand\".format(ns = ns)) +\n",
    "        drug.findall(\"{ns}synonyms/{ns}synonym[@language='English']\".format(ns = ns)) +\n",
    "        drug.findall(\"{ns}international-brands/{ns}international-brand\".format(ns = ns)) +\n",
    "        drug.findall(\"{ns}products/{ns}product/{ns}name\".format(ns = ns))\n",
    "\n",
    "    }\n",
    "    aliases.add(row['name'])\n",
    "    row['aliases'] = sorted(aliases)\n",
    "\n",
    "    rows.append(row)"
   ]
  },
  {
   "cell_type": "code",
   "execution_count": 4,
   "metadata": {},
   "outputs": [],
   "source": [
    "def collapse_list_values(row):\n",
    "    for key, value in row.items():\n",
    "        if isinstance(value, list):\n",
    "            row[key] = '|'.join(value)\n",
    "    return row\n",
    "\n",
    "rows = list(map(collapse_list_values, rows))"
   ]
  },
  {
   "cell_type": "code",
   "execution_count": 5,
   "metadata": {},
   "outputs": [
    {
     "data": {
      "text/html": [
       "<div>\n",
       "<style scoped>\n",
       "    .dataframe tbody tr th:only-of-type {\n",
       "        vertical-align: middle;\n",
       "    }\n",
       "\n",
       "    .dataframe tbody tr th {\n",
       "        vertical-align: top;\n",
       "    }\n",
       "\n",
       "    .dataframe thead th {\n",
       "        text-align: right;\n",
       "    }\n",
       "</style>\n",
       "<table border=\"1\" class=\"dataframe\">\n",
       "  <thead>\n",
       "    <tr style=\"text-align: right;\">\n",
       "      <th></th>\n",
       "      <th>drugbank_id</th>\n",
       "      <th>name</th>\n",
       "      <th>type</th>\n",
       "      <th>groups</th>\n",
       "      <th>atc_codes</th>\n",
       "      <th>categories</th>\n",
       "      <th>inchikey</th>\n",
       "      <th>inchi</th>\n",
       "      <th>smiles</th>\n",
       "      <th>aliases</th>\n",
       "    </tr>\n",
       "  </thead>\n",
       "  <tbody>\n",
       "    <tr>\n",
       "      <th>0</th>\n",
       "      <td>DB00001</td>\n",
       "      <td>Lepirudin</td>\n",
       "      <td>biotech</td>\n",
       "      <td>approved|withdrawn</td>\n",
       "      <td>B01AE02</td>\n",
       "      <td>Amino Acids, Peptides, and Proteins|Anticoagul...</td>\n",
       "      <td>None</td>\n",
       "      <td>None</td>\n",
       "      <td>None</td>\n",
       "      <td>Lepirudin|Refludan</td>\n",
       "    </tr>\n",
       "    <tr>\n",
       "      <th>1</th>\n",
       "      <td>DB00002</td>\n",
       "      <td>Cetuximab</td>\n",
       "      <td>biotech</td>\n",
       "      <td>approved</td>\n",
       "      <td>L01FE01</td>\n",
       "      <td>Amino Acids, Peptides, and Proteins|Antibodies...</td>\n",
       "      <td>None</td>\n",
       "      <td>None</td>\n",
       "      <td>None</td>\n",
       "      <td>Cetuximab|Erbitux</td>\n",
       "    </tr>\n",
       "    <tr>\n",
       "      <th>2</th>\n",
       "      <td>DB00003</td>\n",
       "      <td>Dornase alfa</td>\n",
       "      <td>biotech</td>\n",
       "      <td>approved</td>\n",
       "      <td>R05CB13</td>\n",
       "      <td>Amino Acids, Peptides, and Proteins|Cough and ...</td>\n",
       "      <td>None</td>\n",
       "      <td>None</td>\n",
       "      <td>None</td>\n",
       "      <td>\\n      |Dornase alfa|Pulmozyme|Pulmozyme 1mg/ml</td>\n",
       "    </tr>\n",
       "    <tr>\n",
       "      <th>3</th>\n",
       "      <td>DB00004</td>\n",
       "      <td>Denileukin diftitox</td>\n",
       "      <td>biotech</td>\n",
       "      <td>approved|investigational</td>\n",
       "      <td>L01XX29</td>\n",
       "      <td>ADP Ribose Transferases|Amino Acids, Peptides,...</td>\n",
       "      <td>None</td>\n",
       "      <td>None</td>\n",
       "      <td>None</td>\n",
       "      <td>Denileukin diftitox|Ontak</td>\n",
       "    </tr>\n",
       "    <tr>\n",
       "      <th>4</th>\n",
       "      <td>DB00005</td>\n",
       "      <td>Etanercept</td>\n",
       "      <td>biotech</td>\n",
       "      <td>approved|investigational</td>\n",
       "      <td>L04AB01</td>\n",
       "      <td>Agents reducing cytokine levels|Amino Acids, P...</td>\n",
       "      <td>None</td>\n",
       "      <td>None</td>\n",
       "      <td>None</td>\n",
       "      <td>\\n      |Benepali|Brenzys|Enbrel|Erelzi|Etaner...</td>\n",
       "    </tr>\n",
       "  </tbody>\n",
       "</table>\n",
       "</div>"
      ],
      "text/plain": [
       "  drugbank_id                 name     type                    groups   \n",
       "0     DB00001            Lepirudin  biotech        approved|withdrawn  \\\n",
       "1     DB00002            Cetuximab  biotech                  approved   \n",
       "2     DB00003         Dornase alfa  biotech                  approved   \n",
       "3     DB00004  Denileukin diftitox  biotech  approved|investigational   \n",
       "4     DB00005           Etanercept  biotech  approved|investigational   \n",
       "\n",
       "  atc_codes                                         categories inchikey inchi   \n",
       "0   B01AE02  Amino Acids, Peptides, and Proteins|Anticoagul...     None  None  \\\n",
       "1   L01FE01  Amino Acids, Peptides, and Proteins|Antibodies...     None  None   \n",
       "2   R05CB13  Amino Acids, Peptides, and Proteins|Cough and ...     None  None   \n",
       "3   L01XX29  ADP Ribose Transferases|Amino Acids, Peptides,...     None  None   \n",
       "4   L04AB01  Agents reducing cytokine levels|Amino Acids, P...     None  None   \n",
       "\n",
       "  smiles                                            aliases  \n",
       "0   None                                 Lepirudin|Refludan  \n",
       "1   None                                  Cetuximab|Erbitux  \n",
       "2   None   \\n      |Dornase alfa|Pulmozyme|Pulmozyme 1mg/ml  \n",
       "3   None                          Denileukin diftitox|Ontak  \n",
       "4   None  \\n      |Benepali|Brenzys|Enbrel|Erelzi|Etaner...  "
      ]
     },
     "execution_count": 5,
     "metadata": {},
     "output_type": "execute_result"
    }
   ],
   "source": [
    "columns = ['drugbank_id', 'name', 'type', 'groups', 'atc_codes', 'categories', 'inchikey', 'inchi', 'smiles', 'aliases']\n",
    "drugbank_df = pd.DataFrame.from_dict(rows)[columns]\n",
    "drugbank_df.head()"
   ]
  },
  {
   "cell_type": "code",
   "execution_count": 6,
   "metadata": {},
   "outputs": [
    {
     "name": "stdout",
     "output_type": "stream",
     "text": [
      "(15235, 10)\n",
      "(2744, 10)\n"
     ]
    }
   ],
   "source": [
    "drugbank_slim_df = drugbank_df[\n",
    "    drugbank_df.groups.map(lambda x: 'approved' in x) &\n",
    "    drugbank_df.smiles.map(lambda x: x is not None) &\n",
    "    drugbank_df.type.map(lambda x: x == 'small molecule')\n",
    "]\n",
    "print(drugbank_df.shape)\n",
    "print(drugbank_slim_df.shape)\n",
    "\n",
    "drugbank_df.to_csv('/home/oyj/data/DrugTarget/DrugBank/Processed_drugbank_whole_info.csv', index=False)\n",
    "drugbank_slim_df.to_csv('/home/oyj/data/DrugTarget/DrugBank/Processed_drugbank_sm_approved.csv', index=False)"
   ]
  },
  {
   "attachments": {},
   "cell_type": "markdown",
   "metadata": {},
   "source": [
    "#### Protein information"
   ]
  },
  {
   "cell_type": "code",
   "execution_count": 7,
   "metadata": {},
   "outputs": [],
   "source": [
    "protein_rows = list()\n",
    "for i, drug in enumerate(root):\n",
    "    drugbank_id = drug.findtext(ns + \"drugbank-id[@primary='true']\")\n",
    "    for category in ['target', 'enzyme', 'carrier', 'transporter']:\n",
    "        proteins = drug.findall('{ns}{cat}s/{ns}{cat}'.format(ns=ns, cat=category))\n",
    "        for protein in proteins:\n",
    "            row = {'drugbank_id': drugbank_id, 'category': category}\n",
    "            row['organism'] = protein.findtext('{}organism'.format(ns))\n",
    "            row['known_action'] = protein.findtext('{}known-action'.format(ns))\n",
    "            actions = protein.findall('{ns}actions/{ns}action'.format(ns=ns))\n",
    "            row['actions'] = '|'.join(action.text for action in actions)\n",
    "            uniprot_ids = [polypep.text for polypep in protein.findall(\n",
    "                \"{ns}polypeptide/{ns}external-identifiers/{ns}external-identifier[{ns}resource='UniProtKB']/{ns}identifier\".format(ns=ns))]            \n",
    "            # if len(uniprot_ids) != 1:\n",
    "            #     continue\n",
    "            row['uniprot_id'] = \"|\".join(uniprot_ids)\n",
    "            # ref_text = protein.findtext(\"{ns}references[@format='textile']\".format(ns=ns))\n",
    "            # pmids = re.findall(r'pubmed/([0-9]+)', ref_text)\n",
    "            # row['pubmed_ids'] = '|'.join(pmids)\n",
    "            protein_rows.append(row)\n",
    "\n",
    "protein_df = pd.DataFrame.from_dict(protein_rows)"
   ]
  },
  {
   "cell_type": "code",
   "execution_count": 8,
   "metadata": {},
   "outputs": [
    {
     "data": {
      "text/html": [
       "<div>\n",
       "<style scoped>\n",
       "    .dataframe tbody tr th:only-of-type {\n",
       "        vertical-align: middle;\n",
       "    }\n",
       "\n",
       "    .dataframe tbody tr th {\n",
       "        vertical-align: top;\n",
       "    }\n",
       "\n",
       "    .dataframe thead th {\n",
       "        text-align: right;\n",
       "    }\n",
       "</style>\n",
       "<table border=\"1\" class=\"dataframe\">\n",
       "  <thead>\n",
       "    <tr style=\"text-align: right;\">\n",
       "      <th></th>\n",
       "      <th>drugbank_id</th>\n",
       "      <th>category</th>\n",
       "      <th>organism</th>\n",
       "      <th>known_action</th>\n",
       "      <th>actions</th>\n",
       "      <th>uniprot_id</th>\n",
       "    </tr>\n",
       "  </thead>\n",
       "  <tbody>\n",
       "    <tr>\n",
       "      <th>0</th>\n",
       "      <td>DB00001</td>\n",
       "      <td>target</td>\n",
       "      <td>Humans</td>\n",
       "      <td>yes</td>\n",
       "      <td>inhibitor</td>\n",
       "      <td>P00734</td>\n",
       "    </tr>\n",
       "    <tr>\n",
       "      <th>1</th>\n",
       "      <td>DB00002</td>\n",
       "      <td>target</td>\n",
       "      <td>Humans</td>\n",
       "      <td>yes</td>\n",
       "      <td>binder</td>\n",
       "      <td>P00533</td>\n",
       "    </tr>\n",
       "    <tr>\n",
       "      <th>2</th>\n",
       "      <td>DB00002</td>\n",
       "      <td>target</td>\n",
       "      <td>Humans</td>\n",
       "      <td>unknown</td>\n",
       "      <td>binder</td>\n",
       "      <td>O75015</td>\n",
       "    </tr>\n",
       "  </tbody>\n",
       "</table>\n",
       "</div>"
      ],
      "text/plain": [
       "  drugbank_id category organism known_action    actions uniprot_id\n",
       "0     DB00001   target   Humans          yes  inhibitor     P00734\n",
       "1     DB00002   target   Humans          yes     binder     P00533\n",
       "2     DB00002   target   Humans      unknown     binder     O75015"
      ]
     },
     "execution_count": 8,
     "metadata": {},
     "output_type": "execute_result"
    }
   ],
   "source": [
    "protein_df.head(3)"
   ]
  },
  {
   "cell_type": "code",
   "execution_count": 9,
   "metadata": {},
   "outputs": [
    {
     "data": {
      "text/plain": [
       "(29279, 6)"
      ]
     },
     "execution_count": 9,
     "metadata": {},
     "output_type": "execute_result"
    }
   ],
   "source": [
    "protein_df.shape"
   ]
  },
  {
   "cell_type": "code",
   "execution_count": 10,
   "metadata": {},
   "outputs": [],
   "source": [
    "# set(drugbank_df.drugbank_id.tolist()) - set(protein_df.drugbank_id.tolist())"
   ]
  },
  {
   "cell_type": "code",
   "execution_count": 11,
   "metadata": {},
   "outputs": [
    {
     "data": {
      "text/plain": [
       "15235"
      ]
     },
     "execution_count": 11,
     "metadata": {},
     "output_type": "execute_result"
    }
   ],
   "source": [
    "len(root)"
   ]
  },
  {
   "cell_type": "code",
   "execution_count": 12,
   "metadata": {},
   "outputs": [],
   "source": [
    "protein_df.to_csv('/home/oyj/data/DrugTarget/DrugBank/Processed_DTI_info.csv', index=False)"
   ]
  },
  {
   "cell_type": "code",
   "execution_count": 13,
   "metadata": {},
   "outputs": [],
   "source": [
    "# Read our uniprot to entrez_gene mapping\n",
    "# import requests\n",
    "# import io, gzip\n",
    "\n",
    "# response = requests.get('http://git.dhimmel.com/uniprot/data/map/GeneID.tsv.gz', stream=True)\n",
    "# text = io.TextIOWrapper(gzip.GzipFile(fileobj=response.raw))\n",
    "# uniprot_df = pd.read_table(text, engine='python')\n",
    "# uniprot_df.rename(columns={'uniprot': 'uniprot_id', 'GeneID': 'entrez_gene_id'}, inplace=True)\n",
    "\n",
    "# # merge uniprot mapping with protein_df\n",
    "# entrez_df = protein_df.merge(uniprot_df, how='inner')"
   ]
  },
  {
   "cell_type": "code",
   "execution_count": null,
   "metadata": {},
   "outputs": [],
   "source": []
  }
 ],
 "metadata": {
  "kernelspec": {
   "display_name": "Graph",
   "language": "python",
   "name": "python3"
  },
  "language_info": {
   "codemirror_mode": {
    "name": "ipython",
    "version": 3
   },
   "file_extension": ".py",
   "mimetype": "text/x-python",
   "name": "python",
   "nbconvert_exporter": "python",
   "pygments_lexer": "ipython3",
   "version": "3.8.0"
  },
  "orig_nbformat": 4,
  "vscode": {
   "interpreter": {
    "hash": "8c1af2bff8185261848ea579957419a9fec66a28d6aa01b89b66b39e5585e31a"
   }
  }
 },
 "nbformat": 4,
 "nbformat_minor": 2
}
