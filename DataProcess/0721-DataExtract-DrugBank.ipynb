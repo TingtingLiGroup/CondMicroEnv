{
 "cells": [
  {
   "cell_type": "code",
   "execution_count": 1,
   "metadata": {},
   "outputs": [],
   "source": [
    "import os\n",
    "import numpy as np\n",
    "import pickle as pkl\n",
    "import pandas as pd"
   ]
  },
  {
   "attachments": {},
   "cell_type": "markdown",
   "metadata": {},
   "source": [
    "## Load DrugBank processed data"
   ]
  },
  {
   "cell_type": "code",
   "execution_count": 2,
   "metadata": {},
   "outputs": [
    {
     "name": "stdout",
     "output_type": "stream",
     "text": [
      "(15235, 10)\n",
      "(11583, 3)\n"
     ]
    },
    {
     "data": {
      "text/html": [
       "<div>\n",
       "<style scoped>\n",
       "    .dataframe tbody tr th:only-of-type {\n",
       "        vertical-align: middle;\n",
       "    }\n",
       "\n",
       "    .dataframe tbody tr th {\n",
       "        vertical-align: top;\n",
       "    }\n",
       "\n",
       "    .dataframe thead th {\n",
       "        text-align: right;\n",
       "    }\n",
       "</style>\n",
       "<table border=\"1\" class=\"dataframe\">\n",
       "  <thead>\n",
       "    <tr style=\"text-align: right;\">\n",
       "      <th></th>\n",
       "      <th>drugbank_id</th>\n",
       "      <th>groups</th>\n",
       "      <th>smiles</th>\n",
       "    </tr>\n",
       "  </thead>\n",
       "  <tbody>\n",
       "    <tr>\n",
       "      <th>5</th>\n",
       "      <td>DB00006</td>\n",
       "      <td>approved|investigational</td>\n",
       "      <td>CC[C@H](C)[C@H](NC(=O)[C@H](CCC(O)=O)NC(=O)[C@...</td>\n",
       "    </tr>\n",
       "    <tr>\n",
       "      <th>6</th>\n",
       "      <td>DB00007</td>\n",
       "      <td>approved|investigational</td>\n",
       "      <td>CCNC(=O)[C@@H]1CCCN1C(=O)[C@H](CCCNC(N)=N)NC(=...</td>\n",
       "    </tr>\n",
       "    <tr>\n",
       "      <th>13</th>\n",
       "      <td>DB00014</td>\n",
       "      <td>approved</td>\n",
       "      <td>CC(C)C[C@H](NC(=O)[C@@H](COC(C)(C)C)NC(=O)[C@H...</td>\n",
       "    </tr>\n",
       "  </tbody>\n",
       "</table>\n",
       "</div>"
      ],
      "text/plain": [
       "   drugbank_id                    groups  \\\n",
       "5      DB00006  approved|investigational   \n",
       "6      DB00007  approved|investigational   \n",
       "13     DB00014                  approved   \n",
       "\n",
       "                                               smiles  \n",
       "5   CC[C@H](C)[C@H](NC(=O)[C@H](CCC(O)=O)NC(=O)[C@...  \n",
       "6   CCNC(=O)[C@@H]1CCCN1C(=O)[C@H](CCCNC(N)=N)NC(=...  \n",
       "13  CC(C)C[C@H](NC(=O)[C@@H](COC(C)(C)C)NC(=O)[C@H...  "
      ]
     },
     "execution_count": 2,
     "metadata": {},
     "output_type": "execute_result"
    }
   ],
   "source": [
    "drugbank_df = pd.read_csv('D:/study_data/DrugTarget/DrugBank/Processed_drugbank_whole_info.csv')\n",
    "print(drugbank_df.shape)\n",
    "# drugbank_df.head(3)\n",
    "\n",
    "# keep small molecules & known as action\n",
    "sm_drugbank_df = drugbank_df[drugbank_df.type == 'small molecule']\n",
    "sm_drugbank_df = sm_drugbank_df[['drugbank_id', 'groups', 'smiles']].dropna().drop_duplicates()\n",
    "print(sm_drugbank_df.shape)\n",
    "\n",
    "sm_drugbank_df.head(3)"
   ]
  },
  {
   "cell_type": "code",
   "execution_count": 3,
   "metadata": {},
   "outputs": [
    {
     "name": "stdout",
     "output_type": "stream",
     "text": [
      "(24758, 6)\n"
     ]
    },
    {
     "data": {
      "text/html": [
       "<div>\n",
       "<style scoped>\n",
       "    .dataframe tbody tr th:only-of-type {\n",
       "        vertical-align: middle;\n",
       "    }\n",
       "\n",
       "    .dataframe tbody tr th {\n",
       "        vertical-align: top;\n",
       "    }\n",
       "\n",
       "    .dataframe thead th {\n",
       "        text-align: right;\n",
       "    }\n",
       "</style>\n",
       "<table border=\"1\" class=\"dataframe\">\n",
       "  <thead>\n",
       "    <tr style=\"text-align: right;\">\n",
       "      <th></th>\n",
       "      <th>drugbank_id</th>\n",
       "      <th>category</th>\n",
       "      <th>organism</th>\n",
       "      <th>known_action</th>\n",
       "      <th>actions</th>\n",
       "      <th>uniprot_id</th>\n",
       "    </tr>\n",
       "  </thead>\n",
       "  <tbody>\n",
       "    <tr>\n",
       "      <th>0</th>\n",
       "      <td>DB00001</td>\n",
       "      <td>target</td>\n",
       "      <td>Humans</td>\n",
       "      <td>yes</td>\n",
       "      <td>inhibitor</td>\n",
       "      <td>P00734</td>\n",
       "    </tr>\n",
       "    <tr>\n",
       "      <th>1</th>\n",
       "      <td>DB00002</td>\n",
       "      <td>target</td>\n",
       "      <td>Humans</td>\n",
       "      <td>yes</td>\n",
       "      <td>binder</td>\n",
       "      <td>P00533</td>\n",
       "    </tr>\n",
       "    <tr>\n",
       "      <th>2</th>\n",
       "      <td>DB00002</td>\n",
       "      <td>target</td>\n",
       "      <td>Humans</td>\n",
       "      <td>unknown</td>\n",
       "      <td>binder</td>\n",
       "      <td>O75015</td>\n",
       "    </tr>\n",
       "  </tbody>\n",
       "</table>\n",
       "</div>"
      ],
      "text/plain": [
       "  drugbank_id category organism known_action    actions uniprot_id\n",
       "0     DB00001   target   Humans          yes  inhibitor     P00734\n",
       "1     DB00002   target   Humans          yes     binder     P00533\n",
       "2     DB00002   target   Humans      unknown     binder     O75015"
      ]
     },
     "execution_count": 3,
     "metadata": {},
     "output_type": "execute_result"
    }
   ],
   "source": [
    "# load target information\n",
    "target_df = pd.read_csv('D:/study_data/DrugTarget/DrugBank/Processed_DTI_info.csv').drop_duplicates()\n",
    "# keep Humans\n",
    "target_df = target_df[target_df.organism == 'Humans']\n",
    "print(target_df.shape)\n",
    "target_df.head(3)"
   ]
  },
  {
   "cell_type": "code",
   "execution_count": 4,
   "metadata": {},
   "outputs": [
    {
     "data": {
      "text/plain": [
       "(22833, 8)"
      ]
     },
     "execution_count": 4,
     "metadata": {},
     "output_type": "execute_result"
    }
   ],
   "source": [
    "# len(set(target_df.drugbank_id.tolist())) # 6596\n",
    "\n",
    "merged_drugbank_df = target_df.merge(sm_drugbank_df, how='inner', on=['drugbank_id'])\n",
    "merged_drugbank_df.shape"
   ]
  },
  {
   "cell_type": "code",
   "execution_count": 5,
   "metadata": {},
   "outputs": [
    {
     "data": {
      "text/html": [
       "<div>\n",
       "<style scoped>\n",
       "    .dataframe tbody tr th:only-of-type {\n",
       "        vertical-align: middle;\n",
       "    }\n",
       "\n",
       "    .dataframe tbody tr th {\n",
       "        vertical-align: top;\n",
       "    }\n",
       "\n",
       "    .dataframe thead th {\n",
       "        text-align: right;\n",
       "    }\n",
       "</style>\n",
       "<table border=\"1\" class=\"dataframe\">\n",
       "  <thead>\n",
       "    <tr style=\"text-align: right;\">\n",
       "      <th></th>\n",
       "      <th>drugbank_id</th>\n",
       "      <th>category</th>\n",
       "      <th>organism</th>\n",
       "      <th>known_action</th>\n",
       "      <th>actions</th>\n",
       "      <th>uniprot_id</th>\n",
       "      <th>groups</th>\n",
       "      <th>smiles</th>\n",
       "    </tr>\n",
       "  </thead>\n",
       "  <tbody>\n",
       "    <tr>\n",
       "      <th>0</th>\n",
       "      <td>DB00006</td>\n",
       "      <td>target</td>\n",
       "      <td>Humans</td>\n",
       "      <td>yes</td>\n",
       "      <td>inhibitor</td>\n",
       "      <td>P00734</td>\n",
       "      <td>approved|investigational</td>\n",
       "      <td>CC[C@H](C)[C@H](NC(=O)[C@H](CCC(O)=O)NC(=O)[C@...</td>\n",
       "    </tr>\n",
       "    <tr>\n",
       "      <th>1</th>\n",
       "      <td>DB00006</td>\n",
       "      <td>enzyme</td>\n",
       "      <td>Humans</td>\n",
       "      <td>unknown</td>\n",
       "      <td>inhibitor</td>\n",
       "      <td>P05164</td>\n",
       "      <td>approved|investigational</td>\n",
       "      <td>CC[C@H](C)[C@H](NC(=O)[C@H](CCC(O)=O)NC(=O)[C@...</td>\n",
       "    </tr>\n",
       "    <tr>\n",
       "      <th>2</th>\n",
       "      <td>DB00007</td>\n",
       "      <td>target</td>\n",
       "      <td>Humans</td>\n",
       "      <td>yes</td>\n",
       "      <td>agonist</td>\n",
       "      <td>P30968</td>\n",
       "      <td>approved|investigational</td>\n",
       "      <td>CCNC(=O)[C@@H]1CCCN1C(=O)[C@H](CCCNC(N)=N)NC(=...</td>\n",
       "    </tr>\n",
       "  </tbody>\n",
       "</table>\n",
       "</div>"
      ],
      "text/plain": [
       "  drugbank_id category organism known_action    actions uniprot_id  \\\n",
       "0     DB00006   target   Humans          yes  inhibitor     P00734   \n",
       "1     DB00006   enzyme   Humans      unknown  inhibitor     P05164   \n",
       "2     DB00007   target   Humans          yes    agonist     P30968   \n",
       "\n",
       "                     groups                                             smiles  \n",
       "0  approved|investigational  CC[C@H](C)[C@H](NC(=O)[C@H](CCC(O)=O)NC(=O)[C@...  \n",
       "1  approved|investigational  CC[C@H](C)[C@H](NC(=O)[C@H](CCC(O)=O)NC(=O)[C@...  \n",
       "2  approved|investigational  CCNC(=O)[C@@H]1CCCN1C(=O)[C@H](CCCNC(N)=N)NC(=...  "
      ]
     },
     "execution_count": 5,
     "metadata": {},
     "output_type": "execute_result"
    }
   ],
   "source": [
    "merged_drugbank_df.head(3)"
   ]
  },
  {
   "cell_type": "code",
   "execution_count": 6,
   "metadata": {},
   "outputs": [
    {
     "data": {
      "text/plain": [
       "approved|investigational                               6627\n",
       "approved                                               5138\n",
       "experimental                                           4704\n",
       "investigational                                        1439\n",
       "approved|vet_approved                                   891\n",
       "approved|investigational|vet_approved                   713\n",
       "approved|nutraceutical                                  511\n",
       "approved|investigational|withdrawn                      336\n",
       "approved|investigational|nutraceutical                  309\n",
       "approved|withdrawn                                      294\n",
       "approved|illicit                                        248\n",
       "experimental|investigational                            248\n",
       "approved|nutraceutical|vet_approved                     167\n",
       "approved|experimental                                   152\n",
       "investigational|nutraceutical                           132\n",
       "approved|experimental|investigational                   126\n",
       "experimental|illicit                                     98\n",
       "withdrawn                                                88\n",
       "nutraceutical                                            86\n",
       "approved|illicit|investigational                         73\n",
       "approved|investigational|vet_approved|withdrawn          52\n",
       "investigational|withdrawn                                42\n",
       "approved|illicit|investigational|vet_approved            36\n",
       "experimental|vet_approved                                35\n",
       "approved|vet_approved|withdrawn                          34\n",
       "approved|illicit|investigational|withdrawn               32\n",
       "illicit                                                  26\n",
       "approved|investigational|nutraceutical|vet_approved      23\n",
       "vet_approved                                             22\n",
       "approved|illicit|withdrawn                               21\n",
       "experimental|illicit|investigational                     19\n",
       "approved|investigational|nutraceutical|withdrawn         16\n",
       "illicit|investigational                                  15\n",
       "experimental|nutraceutical                               13\n",
       "illicit|vet_approved                                     12\n",
       "approved|experimental|investigational|withdrawn          12\n",
       "approved|nutraceutical|withdrawn                         11\n",
       "experimental|withdrawn                                    9\n",
       "investigational|vet_approved                              6\n",
       "illicit|investigational|withdrawn                         5\n",
       "illicit|withdrawn                                         3\n",
       "approved|illicit|vet_approved                             3\n",
       "illicit|investigational|vet_approved                      3\n",
       "experimental|illicit|withdrawn                            1\n",
       "vet_approved|withdrawn                                    1\n",
       "approved|experimental|vet_approved                        1\n",
       "Name: groups, dtype: int64"
      ]
     },
     "execution_count": 6,
     "metadata": {},
     "output_type": "execute_result"
    }
   ],
   "source": [
    "merged_drugbank_df.groups.value_counts()"
   ]
  },
  {
   "cell_type": "code",
   "execution_count": 7,
   "metadata": {},
   "outputs": [
    {
     "data": {
      "text/plain": [
       "target    3248\n",
       "enzyme      10\n",
       "Name: category, dtype: int64"
      ]
     },
     "execution_count": 7,
     "metadata": {},
     "output_type": "execute_result"
    }
   ],
   "source": [
    "merged_drugbank_df[merged_drugbank_df.known_action == 'yes'].category.value_counts()"
   ]
  },
  {
   "cell_type": "code",
   "execution_count": 8,
   "metadata": {},
   "outputs": [
    {
     "data": {
      "text/plain": [
       "approved                                               1053\n",
       "approved|investigational                               1041\n",
       "investigational                                         178\n",
       "approved|vet_approved                                   177\n",
       "experimental                                            158\n",
       "approved|illicit                                         93\n",
       "approved|investigational|vet_approved                    88\n",
       "approved|investigational|withdrawn                       64\n",
       "approved|withdrawn                                       61\n",
       "experimental|illicit                                     61\n",
       "withdrawn                                                35\n",
       "approved|illicit|investigational                         26\n",
       "approved|nutraceutical                                   23\n",
       "approved|experimental                                    21\n",
       "approved|investigational|nutraceutical                   20\n",
       "investigational|withdrawn                                18\n",
       "approved|illicit|withdrawn                               17\n",
       "approved|investigational|vet_approved|withdrawn          16\n",
       "illicit                                                  12\n",
       "approved|illicit|investigational|withdrawn               11\n",
       "nutraceutical                                            10\n",
       "experimental|illicit|investigational                      9\n",
       "experimental|vet_approved                                 9\n",
       "illicit|vet_approved                                      7\n",
       "experimental|investigational                              7\n",
       "approved|illicit|investigational|vet_approved             6\n",
       "approved|experimental|investigational|withdrawn           6\n",
       "approved|investigational|nutraceutical|vet_approved       4\n",
       "experimental|withdrawn                                    4\n",
       "experimental|nutraceutical                                4\n",
       "approved|experimental|investigational                     3\n",
       "approved|illicit|vet_approved                             3\n",
       "approved|nutraceutical|vet_approved                       3\n",
       "approved|vet_approved|withdrawn                           2\n",
       "illicit|investigational|vet_approved                      2\n",
       "investigational|nutraceutical                             2\n",
       "experimental|illicit|withdrawn                            1\n",
       "approved|investigational|nutraceutical|withdrawn          1\n",
       "vet_approved                                              1\n",
       "investigational|vet_approved                              1\n",
       "Name: groups, dtype: int64"
      ]
     },
     "execution_count": 8,
     "metadata": {},
     "output_type": "execute_result"
    }
   ],
   "source": [
    "merged_drugbank_df[merged_drugbank_df.known_action == 'yes'].groups.value_counts()"
   ]
  },
  {
   "cell_type": "code",
   "execution_count": 6,
   "metadata": {},
   "outputs": [
    {
     "data": {
      "text/plain": [
       "5846"
      ]
     },
     "execution_count": 6,
     "metadata": {},
     "output_type": "execute_result"
    }
   ],
   "source": [
    "len(set(merged_drugbank_df.drugbank_id.tolist()))"
   ]
  },
  {
   "cell_type": "code",
   "execution_count": 6,
   "metadata": {},
   "outputs": [
    {
     "name": "stderr",
     "output_type": "stream",
     "text": [
      "[11:18:49] Explicit valence for atom # 0 N, 4, is greater than permitted\n",
      "[11:18:49] Explicit valence for atom # 0 N, 4, is greater than permitted\n",
      "[11:18:49] Explicit valence for atom # 0 N, 4, is greater than permitted\n",
      "[11:18:49] Explicit valence for atom # 0 N, 4, is greater than permitted\n",
      "[11:18:49] Explicit valence for atom # 0 N, 4, is greater than permitted\n",
      "[11:18:49] Explicit valence for atom # 0 N, 4, is greater than permitted\n",
      "[11:18:49] Explicit valence for atom # 0 N, 4, is greater than permitted\n",
      "[11:18:49] Explicit valence for atom # 0 N, 4, is greater than permitted\n",
      "[11:18:49] Explicit valence for atom # 0 N, 4, is greater than permitted\n",
      "[11:18:49] Explicit valence for atom # 0 N, 4, is greater than permitted\n",
      "[11:18:49] Explicit valence for atom # 0 N, 4, is greater than permitted\n",
      "[11:18:49] Explicit valence for atom # 0 N, 4, is greater than permitted\n",
      "[11:18:49] Explicit valence for atom # 0 N, 4, is greater than permitted\n",
      "[11:18:49] Explicit valence for atom # 0 N, 4, is greater than permitted\n",
      "[11:18:49] Explicit valence for atom # 0 N, 4, is greater than permitted\n",
      "[11:18:49] Explicit valence for atom # 0 N, 4, is greater than permitted\n",
      "[11:18:49] Explicit valence for atom # 0 N, 4, is greater than permitted\n",
      "[11:18:49] Explicit valence for atom # 0 N, 4, is greater than permitted\n",
      "[11:18:49] Explicit valence for atom # 0 N, 4, is greater than permitted\n",
      "[11:18:49] Explicit valence for atom # 0 N, 4, is greater than permitted\n",
      "[11:18:49] Explicit valence for atom # 0 N, 4, is greater than permitted\n",
      "[11:18:49] Explicit valence for atom # 0 N, 4, is greater than permitted\n",
      "[11:18:49] Explicit valence for atom # 0 N, 4, is greater than permitted\n",
      "[11:18:49] Explicit valence for atom # 0 N, 4, is greater than permitted\n",
      "[11:18:49] Explicit valence for atom # 0 N, 4, is greater than permitted\n",
      "[11:18:49] Explicit valence for atom # 0 N, 4, is greater than permitted\n",
      "[11:18:49] Explicit valence for atom # 0 N, 4, is greater than permitted\n",
      "[11:18:49] Explicit valence for atom # 0 N, 4, is greater than permitted\n",
      "[11:18:49] Explicit valence for atom # 0 N, 4, is greater than permitted\n",
      "[11:18:49] Explicit valence for atom # 0 N, 4, is greater than permitted\n",
      "[11:18:49] Explicit valence for atom # 0 N, 4, is greater than permitted\n",
      "[11:18:49] Explicit valence for atom # 0 N, 4, is greater than permitted\n",
      "[11:18:49] Explicit valence for atom # 0 N, 4, is greater than permitted\n",
      "[11:18:49] Explicit valence for atom # 0 N, 4, is greater than permitted\n",
      "[11:18:49] Explicit valence for atom # 0 N, 4, is greater than permitted\n",
      "[11:18:49] Explicit valence for atom # 0 N, 4, is greater than permitted\n",
      "[11:18:49] Explicit valence for atom # 0 N, 4, is greater than permitted\n",
      "[11:18:49] Explicit valence for atom # 0 N, 4, is greater than permitted\n",
      "[11:18:49] Explicit valence for atom # 0 N, 4, is greater than permitted\n",
      "[11:18:49] Explicit valence for atom # 0 N, 4, is greater than permitted\n",
      "[11:18:49] Explicit valence for atom # 0 N, 4, is greater than permitted\n",
      "[11:18:49] Explicit valence for atom # 0 N, 4, is greater than permitted\n",
      "[11:18:49] Explicit valence for atom # 0 N, 4, is greater than permitted\n",
      "[11:18:49] Explicit valence for atom # 0 N, 4, is greater than permitted\n",
      "[11:18:49] Explicit valence for atom # 0 N, 4, is greater than permitted\n",
      "[11:18:49] Explicit valence for atom # 0 N, 4, is greater than permitted\n",
      "[11:18:50] Explicit valence for atom # 0 N, 4, is greater than permitted\n",
      "[11:18:50] Explicit valence for atom # 0 N, 4, is greater than permitted\n",
      "[11:18:50] Explicit valence for atom # 0 N, 4, is greater than permitted\n",
      "[11:18:50] Explicit valence for atom # 0 N, 4, is greater than permitted\n",
      "[11:18:50] Explicit valence for atom # 0 N, 4, is greater than permitted\n",
      "[11:18:50] Explicit valence for atom # 0 N, 4, is greater than permitted\n",
      "[11:18:50] Explicit valence for atom # 0 N, 4, is greater than permitted\n",
      "[11:18:50] Explicit valence for atom # 0 N, 4, is greater than permitted\n",
      "[11:18:50] Explicit valence for atom # 0 N, 4, is greater than permitted\n",
      "[11:18:50] Explicit valence for atom # 0 N, 4, is greater than permitted\n",
      "[11:18:50] Explicit valence for atom # 0 N, 4, is greater than permitted\n",
      "[11:18:50] Explicit valence for atom # 0 N, 4, is greater than permitted\n",
      "[11:18:50] Explicit valence for atom # 0 N, 4, is greater than permitted\n",
      "[11:18:50] Explicit valence for atom # 0 N, 4, is greater than permitted\n",
      "[11:18:50] Explicit valence for atom # 0 N, 4, is greater than permitted\n",
      "[11:18:50] Explicit valence for atom # 0 N, 4, is greater than permitted\n",
      "[11:18:52] Explicit valence for atom # 13 Cl, 5, is greater than permitted\n",
      "[11:18:53] Explicit valence for atom # 0 O, 3, is greater than permitted\n",
      "[11:18:53] Unusual charge on atom 0 number of radical electrons set to zero\n",
      "[11:18:53] Unusual charge on atom 0 number of radical electrons set to zero\n",
      "[11:18:53] Explicit valence for atom # 4 F, 2, is greater than permitted\n",
      "[11:18:53] Explicit valence for atom # 4 F, 2, is greater than permitted\n",
      "[11:18:53] Explicit valence for atom # 4 F, 2, is greater than permitted\n",
      "[11:18:53] Explicit valence for atom # 4 F, 2, is greater than permitted\n",
      "[11:18:53] Explicit valence for atom # 4 F, 2, is greater than permitted\n",
      "[11:18:53] Explicit valence for atom # 4 F, 2, is greater than permitted\n",
      "[11:18:55] Explicit valence for atom # 13 Be, 3, is greater than permitted\n",
      "[11:18:57] Explicit valence for atom # 0 N, 4, is greater than permitted\n",
      "[11:18:57] Explicit valence for atom # 0 N, 4, is greater than permitted\n"
     ]
    }
   ],
   "source": [
    "from utils import canonic_smiles\n",
    "def my_canonic_smiles(smi):\n",
    "    try:\n",
    "        ca_smi = canonic_smiles(smi)\n",
    "        return ca_smi\n",
    "    except:\n",
    "        return None\n",
    "\n",
    "merged_drugbank_df['smiles'] = merged_drugbank_df['smiles'].apply(my_canonic_smiles)"
   ]
  },
  {
   "cell_type": "code",
   "execution_count": 8,
   "metadata": {},
   "outputs": [],
   "source": [
    "merged_drugbank_df = merged_drugbank_df.dropna(subset=['uniprot_id','groups', 'smiles'])\n",
    "merged_drugbank_df.to_csv('./data/Binding_data/DrugBank_small_molecules_pairs_data.csv', index=False)"
   ]
  },
  {
   "cell_type": "code",
   "execution_count": 8,
   "metadata": {},
   "outputs": [
    {
     "data": {
      "text/plain": [
       "(22760,)"
      ]
     },
     "execution_count": 8,
     "metadata": {},
     "output_type": "execute_result"
    }
   ],
   "source": [
    "merged_drugbank_df['smiles'].dropna().shape"
   ]
  },
  {
   "attachments": {},
   "cell_type": "markdown",
   "metadata": {},
   "source": [
    "### Load PS pros information"
   ]
  },
  {
   "cell_type": "code",
   "execution_count": 9,
   "metadata": {},
   "outputs": [
    {
     "name": "stdout",
     "output_type": "stream",
     "text": [
      "1679\n",
      "2860\n"
     ]
    }
   ],
   "source": [
    "# top 5\n",
    "with open('./data/PS_Pro/Homo_whole_PS_top5.txt', 'r') as file:\n",
    "    ps_whole_list = file.read().strip().split('\\n')\n",
    "print(len(ps_whole_list))"
   ]
  },
  {
   "cell_type": "code",
   "execution_count": 10,
   "metadata": {},
   "outputs": [],
   "source": [
    "from collections import defaultdict\n",
    "partition_smis, unknown_smis = set(), set()\n",
    "partition_target_smis, unknown_target_smis = defaultdict(set), defaultdict(set)\n",
    "nps_success_smis = set()\n",
    "nps_success_target_smis = defaultdict(set)\n",
    "\n",
    "for i in range(len(merged_drugbank_df)):\n",
    "    uni_ids = merged_drugbank_df.iloc[i, 5]\n",
    "    smi = merged_drugbank_df.iloc[i, 7]\n",
    "    if str(uni_ids) != 'nan' and smi is not None:\n",
    "        if '|' not in uni_ids:\n",
    "            if uni_ids in ps_whole_list:\n",
    "                if 'approved' in merged_drugbank_df.iloc[i, 6] and merged_drugbank_df.iloc[i, 3] == 'yes':\n",
    "                    partition_smis.update([smi])\n",
    "                    partition_target_smis[uni_ids].update([smi])\n",
    "                else:\n",
    "                    unknown_smis.update([smi])\n",
    "                    unknown_target_smis[uni_ids].update([smi])\n",
    "            else:\n",
    "                if 'approved' in merged_drugbank_df.iloc[i, 6] and merged_drugbank_df.iloc[i, 3] == 'yes':\n",
    "                    # disconsider unreviewed uniprot ids (manually from UniProt database)\n",
    "                    if uni_ids not in ['O43519', 'Q693P7', 'Q86V67', 'Q99870', 'Q9UE69']:\n",
    "                        nps_success_smis.update([smi])\n",
    "                        nps_success_target_smis[uni_ids].update([smi])\n",
    "        else:\n",
    "            uni_id_list = uni_ids.split('|')\n",
    "            for uni in uni_id_list:\n",
    "                if uni in ps_whole_list:\n",
    "                    if 'approved' in merged_drugbank_df.iloc[i, 6] and merged_drugbank_df.iloc[i, 3] == 'yes':\n",
    "                        partition_smis.update([smi])\n",
    "                        partition_target_smis[uni].update([smi])\n",
    "                    else:\n",
    "                        unknown_smis.update([smi])\n",
    "                        unknown_target_smis[uni].update([smi])\n",
    "                else:\n",
    "                    if 'approved' in merged_drugbank_df.iloc[i, 6] and merged_drugbank_df.iloc[i, 3] == 'yes':\n",
    "                        # disconsider unreviewed uniprot ids (manually from UniProt database)\n",
    "                        if uni_ids not in ['O43519', 'Q693P7', 'Q86V67', 'Q99870', 'Q9UE69']:\n",
    "                            nps_success_smis.update([smi])\n",
    "                            nps_success_target_smis[uni].update([smi])"
   ]
  },
  {
   "cell_type": "code",
   "execution_count": 11,
   "metadata": {},
   "outputs": [
    {
     "name": "stdout",
     "output_type": "stream",
     "text": [
      "209 49\n",
      "1179 261\n",
      "1213 660\n"
     ]
    }
   ],
   "source": [
    "print(len(partition_smis), len(partition_target_smis))\n",
    "print(len(unknown_smis), len(unknown_target_smis))\n",
    "print(len(nps_success_smis), len(nps_success_target_smis))"
   ]
  },
  {
   "cell_type": "code",
   "execution_count": 12,
   "metadata": {},
   "outputs": [],
   "source": [
    "with open('./data/Binding_data/DrugBank_ps_smiles_top5.pkl', 'wb') as file:\n",
    "    pkl.dump((partition_smis, unknown_smis, partition_target_smis, unknown_target_smis), file)"
   ]
  },
  {
   "cell_type": "code",
   "execution_count": 13,
   "metadata": {},
   "outputs": [],
   "source": [
    "with open('./data/Binding_data/DrugBank_nps_smiles_top5.pkl', 'wb') as file:\n",
    "    pkl.dump((nps_success_smis, nps_success_target_smis), file=file)"
   ]
  }
 ],
 "metadata": {
  "kernelspec": {
   "display_name": "my-torch",
   "language": "python",
   "name": "python3"
  },
  "language_info": {
   "codemirror_mode": {
    "name": "ipython",
    "version": 3
   },
   "file_extension": ".py",
   "mimetype": "text/x-python",
   "name": "python",
   "nbconvert_exporter": "python",
   "pygments_lexer": "ipython3",
   "version": "3.7.1 (default, Oct 28 2018, 08:39:03) [MSC v.1912 64 bit (AMD64)]"
  },
  "orig_nbformat": 4,
  "vscode": {
   "interpreter": {
    "hash": "c0974cc73794542dbe9421a19f618ed739ff4a121da27e795afd72ba6ef7b90a"
   }
  }
 },
 "nbformat": 4,
 "nbformat_minor": 2
}
