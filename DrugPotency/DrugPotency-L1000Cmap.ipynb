{
 "cells": [
  {
   "cell_type": "code",
   "execution_count": null,
   "metadata": {},
   "outputs": [],
   "source": [
    "# This notebook is about correlation analysis of signature similarity and logp of inhibitors in given cell line & gene\n",
    "# Signature similarity: spearman rank correlation of signature induced by shRNA and signature induced by inhibitor\n",
    "\n",
    "# Gene signature: gene expression data from L1000 (GSE92742) -- Level 3 & level 5\n",
    "# Inhibiors source of gene of interest(GOI): using TTD, DrugBank & IC50, Ki<= 10μM"
   ]
  },
  {
   "cell_type": "code",
   "execution_count": 1,
   "metadata": {},
   "outputs": [],
   "source": [
    "import numpy as np\n",
    "import pandas as pd\n",
    "import os\n",
    "from cmapPy.pandasGEXpress.parse_gctx import parse\n",
    "from scipy.spatial.distance import cosine\n",
    "from utils import get_mol\n",
    "from rdkit.Chem import Descriptors\n",
    "from scipy.stats import mannwhitneyu, spearmanr\n",
    "import pickle as pkl\n",
    "import matplotlib.pyplot as plt\n",
    "plt.rcParams['font.sans-serif'] = 'Arial'\n",
    "import matplotlib as mpl\n",
    "import seaborn as sns\n",
    "from utils import tanimoto_similarity_smiles\n",
    "from rdkit.Chem.Draw import MolsToGridImage"
   ]
  },
  {
   "attachments": {},
   "cell_type": "markdown",
   "metadata": {},
   "source": [
    "### Inhibitors extraction\n",
    "+ Part1: TTD & DrugBank: inhitibor definition `['antagonist', 'inhibitor', 'substrate|inhibitor', \n",
    "               'antagonist|inhibitor', 'negative modulator','blocker',\n",
    "               'blocker (channel blocker)', 'downregulator','inhibitor|downregulator',\n",
    "               'inhibitor|binder', 'inhibitor (gating inhibitor)', 'antagonist|inhibitor|ligand',\n",
    "               'antagonist|binder', 'inhibitor|blocker', 'antagonist|downregulator', 'antagonist|substrate',\n",
    "               'suppressor','inhibitory allosteric modulator', 'antagonist|ligand']`\n",
    "+ Part2: `IC50, Ki < 5μM`, affinity data from `TTD, BindingDB & Chembl`\n",
    "\n",
    "+ This data extraction procedure is done in notebook: **`../DrugPartition2/240318-DataExtract-L1000-Pert-target-affinity.ipynb`**\n",
    "\n",
    "+ data saved: \n",
    "+ > target2inhibitors&pert_id: `./data/L1000/GSE92742_trt_cp_union_target2inhibitors_maps_5uM.pkl`\n",
    "+ > affinity maps `{smi: {(uniprot, measure): affinity, (uniprot2, measure2): affinity2}}`: `./data/L1000/GSE92742_trt_cp_affinity_maps.pkl`"
   ]
  },
  {
   "attachments": {},
   "cell_type": "markdown",
   "metadata": {},
   "source": [
    "### Correlation of signature similarity & logP\n",
    "+ Gene knock down: shRNA, trt_sh.cgs"
   ]
  },
  {
   "cell_type": "code",
   "execution_count": null,
   "metadata": {},
   "outputs": [],
   "source": [
    "# perturbagen_info_df = pd.read_csv('/home/oyj/data/L1000_Cmap/GSE92742_Broad_LINCS_pert_info.txt', sep='\\t', header=0)\n",
    "# Gene LoF (shRNAs for LoF)\n",
    "# shrna_perturbagen_info_df = perturbagen_info_df[perturbagen_info_df['pert_type'] == 'trt_sh.cgs']\n",
    "# shrna_perturbagen_info_df = shrna_perturbagen_info_df.iloc[:, :3]\n",
    "# print(shrna_perturbagen_info_df.shape)  # (4345, 3)\n",
    "\n",
    "# target mapping\n",
    "# target_lof_maps_df = pd.read_csv('./data/tmp/L1000_target_inhibited_mapping_2024_03_21.tsv', sep='\\t')\n",
    "# gene2uniprot = {}\n",
    "# for uniprot, gene_names in target_lof_maps_df[['Entry', 'Gene Names']].values:\n",
    "#     for gene in gene_names.split(' '):\n",
    "#         gene2uniprot[gene] = uniprot\n",
    "\n",
    "# shrna_perturbagen_info_df['uniprot'] = shrna_perturbagen_info_df['pert_iname'].apply(\n",
    "#     lambda item: gene2uniprot[item] if item in gene2uniprot else None)\n",
    "# keep_shrna_perturbagen_info_df = shrna_perturbagen_info_df.dropna().reset_index(drop=True)\n",
    "\n",
    "# print(keep_shrna_perturbagen_info_df.shape)  # (965, 4)"
   ]
  },
  {
   "cell_type": "code",
   "execution_count": 2,
   "metadata": {},
   "outputs": [
    {
     "name": "stdout",
     "output_type": "stream",
     "text": [
      "12328 978\n"
     ]
    }
   ],
   "source": [
    "# Using GSE92742: LINCS Phase I L1000 dataset\n",
    "# compute similarity between signature induced by shRNA.cgs and signature induced by inhibitor\n",
    "gene_info_df = pd.read_csv('/home/oyj/data/L1000_Cmap/GSE92742_Broad_LINCS_gene_info.txt', sep='\\t', header=0, dtype=str)\n",
    "# Total genes\n",
    "# print(gene_info_df.shape)\n",
    "all_gene_ids = gene_info_df['pr_gene_id'].tolist()\n",
    "# Landmark genes\n",
    "landmark_gene_ids = gene_info_df[gene_info_df.pr_is_lm == '1']['pr_gene_id'].tolist()\n",
    "print(len(all_gene_ids), len(landmark_gene_ids))  # 12328 978\n",
    "# gene_info_df.head(2)\n",
    "\n",
    "# Knock-down genes with inhibitors information\n",
    "keep_shrna_perturbagen_info_df = pd.read_csv('./data/L1000/GSE92742_trt_sh.cgs_info.csv')\n",
    "# keep_shrna_perturbagen_info_df.head(2)\n",
    "\n",
    "# target to inhibitors mapping dict\n",
    "# using union: DrugBank + TTD + Affinity (IC50, Ki) defined\n",
    "# with open('./data/L1000/GSE92742_trt_cp_union_target2inhibitors_maps.pkl', 'rb') as file:\n",
    "#     target_lof2smi_pert_id = pkl.load(file=file)\n",
    "with open('./data/L1000/GSE92742_trt_cp_union_target2inhibitors_maps_5uM.pkl', 'rb') as file:\n",
    "    target_lof2smi_pert_id = pkl.load(file=file)\n",
    "# affinity data\n",
    "with open('./data/L1000/GSE92742_trt_cp_affinity_maps.pkl', 'rb') as file:\n",
    "    affinity_maps = pkl.load(file=file)\n",
    "\n",
    "gene2uniprot = {gene: uniprot for gene, uniprot in keep_shrna_perturbagen_info_df[['pert_iname', 'uniprot']].values}\n",
    "uniprot2gene = {uniprot: gene for gene, uniprot in keep_shrna_perturbagen_info_df[['pert_iname', 'uniprot']].values}\n",
    "\n",
    "# signature information\n",
    "signature_info_df = pd.read_csv('/home/oyj/data/L1000_Cmap/GSE92742_Broad_LINCS_sig_info.txt', \n",
    "                                sep='\\t', header=0, low_memory=False)\n",
    "trt_cp_signature_info_df = signature_info_df[signature_info_df['pert_type'] == 'trt_cp']\n",
    "trt_sh_cgs_signature_info_df = signature_info_df[signature_info_df['pert_type'] == 'trt_sh.cgs']"
   ]
  },
  {
   "cell_type": "code",
   "execution_count": 3,
   "metadata": {},
   "outputs": [
    {
     "name": "stdout",
     "output_type": "stream",
     "text": [
      "38\n",
      "33\n"
     ]
    }
   ],
   "source": [
    "# Somes bugs in Chembl database: remove them manually\n",
    "ESR1_agonists = [\n",
    "    'C[C@]12CC[C@@H]3c4ccc(O)cc4CC[C@H]3[C@@H]1CCC2=O',  # estrone\n",
    "    'CC12CCC3c4ccc(O)cc4CCC3C1CCC2O',  # Estra-1,3,5(10)-triene-3,17-diol\n",
    "    'C#C[C@]1(O)CC[C@H]2[C@@H]3CCc4cc(O)ccc4[C@H]3CC[C@@]21C',  # Ethynylestradiol\n",
    "    'C[C@]12CC[C@@H]3c4ccc(O)cc4CC[C@H]3[C@@H]1C[C@@H](O)[C@@H]2O',  # estriol\n",
    "    'C[C@]12CC[C@@H]3c4ccc(O)cc4CC[C@H]3[C@@H]1CC[C@@H]2O'  # estradiol\n",
    "]\n",
    "print(len(target_lof2smi_pert_id['P03372']))\n",
    "tmp = set()\n",
    "for item in target_lof2smi_pert_id['P03372']:\n",
    "    if item[0] not in ESR1_agonists:\n",
    "        tmp.add(item)\n",
    "target_lof2smi_pert_id['P03372'] = tmp\n",
    "print(len(target_lof2smi_pert_id['P03372']))"
   ]
  },
  {
   "cell_type": "code",
   "execution_count": 4,
   "metadata": {},
   "outputs": [
    {
     "name": "stdout",
     "output_type": "stream",
     "text": [
      "33\n",
      "99\n",
      "79\n",
      "28\n",
      "41\n",
      "21\n",
      "14\n",
      "20\n"
     ]
    }
   ],
   "source": [
    "genes = ['ESR1', 'EGFR', 'KDR', 'AR', 'NR3C1', 'TOP2A', 'TOP2B', 'PGR']\n",
    "\n",
    "gene2uniprot['PGR'] = 'P06401'\n",
    "uniprot_ids = [gene2uniprot[gene] for gene in genes]\n",
    "for uni in uniprot_ids:\n",
    "    print(len(target_lof2smi_pert_id[uni]))"
   ]
  },
  {
   "cell_type": "code",
   "execution_count": 4,
   "metadata": {},
   "outputs": [],
   "source": [
    "def get_inhibitors_signature_similarity(uniprot_id, cell_line = 'PC3',\n",
    "                                        target2smi_dict=target_lof2smi_pert_id, \n",
    "                                        gene_ids = landmark_gene_ids,\n",
    "                                        trt_cp_time = '24 h'):\n",
    "    \"\"\"\n",
    "    For a protein (defined by `uniprot_id`), compute the similarity of shRNA LoF signature and\n",
    "    inhibitor-induced signature (averaged).\n",
    "    inputs:\n",
    "        uniprot_id\n",
    "        cell_line: 'PC3', 'MCF7'..  # For trt_sh.cgs & trt_cp\n",
    "        target2smi_dict: uniprot mapping to (smi, pert_id) tuple\n",
    "        gene_ids: using landmark genes or total genes (default: using landmark genes as other genes were infered)\n",
    "        trt_cp_time: # For trt_cp: 24 h or 6 h\n",
    "    returns:\n",
    "        dict of similarity {smiles: sim}\n",
    "        spearman correlation of logp & signature similarity\n",
    "    \"\"\"\n",
    "    # set experiment conditions\n",
    "    keep_trt_cp_signature_info_df = trt_cp_signature_info_df[(trt_cp_signature_info_df['cell_id'] == cell_line) &\n",
    "                                                            (trt_cp_signature_info_df['pert_idose'] == '10 µM') &\n",
    "                                                            (trt_cp_signature_info_df['pert_itime'] == trt_cp_time)]\n",
    "    keep_trt_sh_cgs_signature_info_df = trt_sh_cgs_signature_info_df[trt_sh_cgs_signature_info_df['cell_id'] == cell_line]\n",
    "    \n",
    "    # trt_sh.cgs\n",
    "    gene_lof_pert_id = keep_shrna_perturbagen_info_df[\n",
    "        keep_shrna_perturbagen_info_df.uniprot == uniprot_id]['pert_id'].tolist()[0]\n",
    "    gene_lof_sig_id = keep_trt_sh_cgs_signature_info_df[\n",
    "        keep_trt_sh_cgs_signature_info_df.pert_id == gene_lof_pert_id]['sig_id']\n",
    "    if gene_lof_sig_id.empty:\n",
    "        return [], [], {}, ([], [])\n",
    "    # level5 data: moderated z-scores (aggregate replicates, \n",
    "    # level4 --  calculated z-socre compared to control --that is differential expression values)\n",
    "    gene_lof_sig_data = parse('/home/oyj/data/L1000_Cmap/GSE92742_Broad_LINCS_Level5_COMPZ.MODZ_n473647x12328.gctx', \n",
    "                            make_multiindex=True, rid=gene_ids, cid=gene_lof_sig_id.tolist())\n",
    "    gene_lof_sig_values = gene_lof_sig_data.multi_index_df.values\n",
    "\n",
    "    # trt_cp\n",
    "    smi_and_pert_ids = list(target2smi_dict[uniprot_id])\n",
    "    keep_ihb_smi2sig_id = {}\n",
    "    for ihb_smi, ihb_pert_id in smi_and_pert_ids:\n",
    "        if '|' not in ihb_pert_id:\n",
    "            ihb_sig_id = keep_trt_cp_signature_info_df[keep_trt_cp_signature_info_df.pert_id == ihb_pert_id]['sig_id']\n",
    "        else:\n",
    "            ihb_sig_id = keep_trt_cp_signature_info_df[keep_trt_cp_signature_info_df.pert_id.isin(ihb_pert_id.split('|'))]['sig_id']\n",
    "        if not ihb_sig_id.empty:\n",
    "            keep_ihb_smi2sig_id[ihb_smi] = ihb_sig_id.tolist()\n",
    "    \n",
    "    print('Inhibitors number:', len(keep_ihb_smi2sig_id))\n",
    "    if not keep_ihb_smi2sig_id:\n",
    "        return [], [], {}, ([], [])\n",
    "    sim_dict = {}\n",
    "    for ihb_smi, ihb_sig_id in keep_ihb_smi2sig_id.items():\n",
    "        ihb_sig_data = parse('/home/oyj/data/L1000_Cmap/GSE92742_Broad_LINCS_Level5_COMPZ.MODZ_n473647x12328.gctx', \n",
    "                             make_multiindex=True, rid=gene_ids, cid=ihb_sig_id)\n",
    "        ihb_lof_sig_values = ihb_sig_data.multi_index_df.values\n",
    "        sim = spearmanr(np.mean(gene_lof_sig_values, axis=1), np.mean(ihb_lof_sig_values, axis=1)).statistic\n",
    "        sim_dict[ihb_smi] = sim\n",
    "\n",
    "    # spearman correlation of logp & sim\n",
    "    logps = [Descriptors.MolLogP(get_mol(smi)) for smi in sim_dict.keys()]\n",
    "    logp_sim_spr = spearmanr(logps, list(sim_dict.values()))\n",
    "    print(logp_sim_spr)\n",
    "\n",
    "    return sim_dict, (logps, list(sim_dict.values()))"
   ]
  },
  {
   "cell_type": "code",
   "execution_count": 5,
   "metadata": {},
   "outputs": [],
   "source": [
    "def get_inhibitors_N(uniprot_id, target2smi_dict=target_lof2smi_pert_id, \n",
    "                     cell_line = 'PC3', trt_cp_time = '24 h'):\n",
    "    # set experiment conditions\n",
    "    keep_trt_cp_signature_info_df = trt_cp_signature_info_df[(trt_cp_signature_info_df['cell_id'] == cell_line) &\n",
    "                                                            (trt_cp_signature_info_df['pert_idose'] == '10 µM') &\n",
    "                                                            (trt_cp_signature_info_df['pert_itime'] == trt_cp_time)]\n",
    "    keep_trt_sh_cgs_signature_info_df = trt_sh_cgs_signature_info_df[trt_sh_cgs_signature_info_df['cell_id'] == cell_line]\n",
    "    \n",
    "    # trt_sh.cgs\n",
    "    gene_lof_pert_id = keep_shrna_perturbagen_info_df[\n",
    "        keep_shrna_perturbagen_info_df.uniprot == uniprot_id]['pert_id']\n",
    "    if gene_lof_pert_id.empty:\n",
    "        return 0\n",
    "    gene_lof_sig_id = keep_trt_sh_cgs_signature_info_df[\n",
    "        keep_trt_sh_cgs_signature_info_df.pert_id == gene_lof_pert_id.tolist()[0]]['sig_id']\n",
    "    if gene_lof_sig_id.empty:\n",
    "        return 0\n",
    "\n",
    "    # trt_cp\n",
    "    smi_and_pert_ids = list(target2smi_dict[uniprot_id])\n",
    "    keep_ihb_smi2sig_id = {}\n",
    "    for ihb_smi, ihb_pert_id in smi_and_pert_ids:\n",
    "        if '|' not in ihb_pert_id:\n",
    "            ihb_sig_id = keep_trt_cp_signature_info_df[keep_trt_cp_signature_info_df.pert_id == ihb_pert_id]['sig_id']\n",
    "        else:\n",
    "            ihb_sig_id = keep_trt_cp_signature_info_df[keep_trt_cp_signature_info_df.pert_id.isin(ihb_pert_id.split('|'))]['sig_id']\n",
    "        if not ihb_sig_id.empty:\n",
    "            keep_ihb_smi2sig_id[ihb_smi] = ihb_sig_id.tolist()\n",
    "\n",
    "    return len(keep_ihb_smi2sig_id)"
   ]
  },
  {
   "cell_type": "code",
   "execution_count": 6,
   "metadata": {},
   "outputs": [],
   "source": [
    "genes = ['ESR1', 'EGFR', 'KDR', 'AR', 'NR3C1', 'TOP2A', 'TOP2B', 'PGR']\n",
    "\n",
    "gene2uniprot['PGR'] = 'P06401'\n",
    "uniprot_ids = [gene2uniprot[gene] for gene in genes]\n",
    "cell_lines = ['MCF7', 'HCC515','A549','VCAP', 'PC3', 'A375', 'HT29']  # 'HA1E' 为normal 去除\n",
    "data_points_N = np.zeros(shape=(len(genes), len(cell_lines)), dtype=np.int64)\n",
    "for i in range(len(genes)):\n",
    "    for j in range(len(cell_lines)):\n",
    "        data_points_N[i, j] = get_inhibitors_N(uniprot_id=uniprot_ids[i], cell_line=cell_lines[j],\n",
    "                                               target2smi_dict=target_lof2smi_pert_id)"
   ]
  },
  {
   "cell_type": "code",
   "execution_count": 8,
   "metadata": {},
   "outputs": [
    {
     "data": {
      "text/plain": [
       "array([[28, 20, 25, 25, 27, 11, 11],\n",
       "       [94, 49, 81, 79, 84, 29, 27],\n",
       "       [75, 32, 59, 56, 61, 20, 18],\n",
       "       [24, 16, 22, 23, 24,  5,  5],\n",
       "       [39, 19, 31, 39, 39,  5,  5],\n",
       "       [20,  3, 14, 10, 21,  3,  3],\n",
       "       [13,  0,  8,  7, 14,  0,  0],\n",
       "       [ 0,  0,  0,  0,  0,  0,  0]])"
      ]
     },
     "execution_count": 8,
     "metadata": {},
     "output_type": "execute_result"
    }
   ],
   "source": [
    "data_points_N"
   ]
  },
  {
   "cell_type": "code",
   "execution_count": 6,
   "metadata": {},
   "outputs": [],
   "source": [
    "# genes = ['ESR1', 'EGFR', 'KDR', 'AR', 'NR3C1', 'TOP2A', 'TOP2B', 'PGR']\n",
    "genes = ['ESR1', 'EGFR', 'KDR', 'AR']\n",
    "\n",
    "# gene2uniprot['PGR'] = 'P06401'\n",
    "uniprot_ids = [gene2uniprot[gene] for gene in genes]\n",
    "cell_lines = ['MCF7', 'HCC515','A549','VCAP', 'PC3', 'A375', 'HT29']  # 'HA1E' 为normal 去除\n",
    "data_points_N = np.zeros(shape=(len(genes), len(cell_lines)), dtype=np.int64)\n",
    "for i in range(len(genes)):\n",
    "    for j in range(len(cell_lines)):\n",
    "        data_points_N[i, j] = get_inhibitors_N(uniprot_id=uniprot_ids[i], cell_line=cell_lines[j],\n",
    "                                               target2smi_dict=target_lof2smi_pert_id)"
   ]
  },
  {
   "cell_type": "code",
   "execution_count": 7,
   "metadata": {},
   "outputs": [],
   "source": [
    "# for gene expression: level 3\n",
    "inst_info = pd.read_csv('/home/oyj/data/L1000_Cmap/GSE92742_Broad_LINCS_inst_info.txt', sep='\\t', low_memory=False)\n",
    "\n",
    "def get_cell_line_gene_expr(gene_name, cell_line):\n",
    "    \"\"\"\n",
    "    Get gene (given by uniprot_id) expression level of certain cell_line;\n",
    "    \"\"\"\n",
    "    gene_id = gene_info_df[gene_info_df.pr_gene_symbol == gene_name].pr_gene_id.tolist()\n",
    "    if len(gene_id) == 0:\n",
    "        print('Unmapped uniprot id.')\n",
    "        return None\n",
    "    if len(gene_id) > 1:\n",
    "        print('One gene name mapping to more than one gene ids.')\n",
    "    tmp = inst_info[(inst_info.cell_id == cell_line) & (inst_info.pert_type == 'ctl_untrt')]\n",
    "    cids = tmp['inst_id'].tolist()\n",
    "\n",
    "    gene_exprs = parse('/home/oyj/data/L1000_Cmap/GSE92742_Broad_LINCS_Level3_INF_ctl_untrt_n22072x12328.gctx', make_multiindex=True, \n",
    "                       rid=gene_id, cid=cids)\n",
    "    return gene_exprs.multi_index_df.values.flatten().tolist()"
   ]
  },
  {
   "cell_type": "code",
   "execution_count": 10,
   "metadata": {},
   "outputs": [],
   "source": [
    "gene_expr_mat = np.zeros(shape=(len(genes), len(cell_lines)), dtype=np.int64)\n",
    "for i in range(len(genes)):\n",
    "    for j in range(len(cell_lines)):\n",
    "        gene_expr_mat[i, j] = np.median(get_cell_line_gene_expr(gene_name=genes[i], cell_line=cell_lines[j]))"
   ]
  }
 ],
 "metadata": {
  "kernelspec": {
   "display_name": "Graph",
   "language": "python",
   "name": "python3"
  },
  "language_info": {
   "codemirror_mode": {
    "name": "ipython",
    "version": 3
   },
   "file_extension": ".py",
   "mimetype": "text/x-python",
   "name": "python",
   "nbconvert_exporter": "python",
   "pygments_lexer": "ipython3",
   "version": "3.8.0"
  },
  "orig_nbformat": 4,
  "vscode": {
   "interpreter": {
    "hash": "8c1af2bff8185261848ea579957419a9fec66a28d6aa01b89b66b39e5585e31a"
   }
  }
 },
 "nbformat": 4,
 "nbformat_minor": 2
}
